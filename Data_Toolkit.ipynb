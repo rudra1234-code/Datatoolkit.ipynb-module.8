{
  "nbformat": 4,
  "nbformat_minor": 0,
  "metadata": {
    "colab": {
      "provenance": []
    },
    "kernelspec": {
      "name": "python3",
      "display_name": "Python 3"
    },
    "language_info": {
      "name": "python"
    }
  },
  "cells": [
    {
      "cell_type": "markdown",
      "source": [
        "    1.What is NumPy, and why is it widely used in Python?\n",
        "    \n",
        "    NumPy (Numerical Python) is a powerful open-source library for numerical and scientific computing in Python. It provides support for multidimensional arrays and matrices, along with a collection of high-performance mathematical functions to operate on these data structures efficiently.\n",
        "     \n",
        "    Why is NumPy Widely Used?\n",
        "    \n",
        "    1.Efficient Handling of Arrays:\n",
        "    NumPy provides the ndarray object, which allows storage and manipulation of large datasets. Unlike Python's native lists, NumPy arrays are faster, memory-efficient, and support multi-dimensional structures.\n",
        "\n",
        "    2.Performance:\n",
        "    NumPy operations are implemented in C, enabling fast execution of array operations compared to Python loops.Vectorized operations (operations applied element-wise to arrays) avoid explicit loops, making computations much faster.\n",
        "\n",
        "    3.Broad Functionality:\n",
        "    NumPy provides a rich set of tools for:\n",
        "    Linear algebra\n",
        "    Fourier analysis\n",
        "    Mathematical operations (e.g., trigonometry, statistics)\n",
        "    Logical operations\n",
        "\n",
        "    4.Basis for Scientific Libraries:\n",
        "    Libraries such as Pandas, SciPy, Matplotlib, and scikit-learn are built on top of NumPy. It acts as a foundational library for the scientific and data science ecosystem in Python.\n",
        "    \n",
        "    5.Support for Broadcasting:\n",
        "    NumPy can perform arithmetic operations on arrays of different shapes by automatically \"broadcasting\" the smaller array dimensions to match the larger one.\n",
        "\n",
        "    6.Integration with Other Languages:\n",
        "    NumPy easily integrates with C, C++, and Fortran, enabling efficient performance for large-scale computations."
      ],
      "metadata": {
        "id": "V9j_mJ_bmSmv"
      }
    },
    {
      "cell_type": "markdown",
      "source": [
        "    Example of NumPy Usage:"
      ],
      "metadata": {
        "id": "R7oJIyRyoJci"
      }
    },
    {
      "cell_type": "code",
      "source": [
        "import numpy as np\n",
        "\n",
        "# Creating a NumPy array\n",
        "arr = np.array([[1, 2, 3], [4, 5, 6]])\n",
        "\n",
        "# Performing operations\n",
        "print(\"Original Array:\")\n",
        "print(arr)\n",
        "\n",
        "print(\"\\nArray Transpose:\")\n",
        "print(arr.T)\n",
        "\n",
        "print(\"\\nElement-wise multiplication:\")\n",
        "print(arr * 2)\n",
        "\n",
        "# Mean of all elements\n",
        "print(\"\\nMean:\", np.mean(arr))\n"
      ],
      "metadata": {
        "colab": {
          "base_uri": "https://localhost:8080/"
        },
        "id": "IpQm_vEboVcW",
        "outputId": "d96030c4-1c58-4616-eda0-78db4d219175"
      },
      "execution_count": null,
      "outputs": [
        {
          "output_type": "stream",
          "name": "stdout",
          "text": [
            "Original Array:\n",
            "[[1 2 3]\n",
            " [4 5 6]]\n",
            "\n",
            "Array Transpose:\n",
            "[[1 4]\n",
            " [2 5]\n",
            " [3 6]]\n",
            "\n",
            "Element-wise multiplication:\n",
            "[[ 2  4  6]\n",
            " [ 8 10 12]]\n",
            "\n",
            "Mean: 3.5\n"
          ]
        }
      ]
    },
    {
      "cell_type": "markdown",
      "source": [
        "    2.A How does broadcasting work in NumPy?\n",
        "\n",
        "    In NumPy, broadcasting is a powerful mechanism that allows operations (like addition, multiplication, etc.) between arrays of different shapes. Instead of requiring arrays to have exactly the same shape, NumPy automatically \"broadcasts\" the smaller array over the larger one so they have compatible shapes.\n",
        "\n",
        "    This makes it possible to perform element-wise operations without explicitly duplicating data, improving efficiency."
      ],
      "metadata": {
        "id": "beAFEUaZoiXk"
      }
    },
    {
      "cell_type": "markdown",
      "source": [
        "    3.What is a Pandas DataFrame?\n",
        "    \n",
        "    A Pandas DataFrame is a two-dimensional, tabular data structure in the Pandas library, which is a popular Python library for data manipulation and analysis. It is similar to a spreadsheet, SQL table, or a data.frame in R, and it is one of the most commonly used data structures in Pandas."
      ],
      "metadata": {
        "id": "WQEgX6wRptWa"
      }
    },
    {
      "cell_type": "markdown",
      "source": [
        "    Example:"
      ],
      "metadata": {
        "id": "lgXGvBfdqHTg"
      }
    },
    {
      "cell_type": "code",
      "source": [
        "\n",
        "import pandas as pd\n",
        "\n",
        "# Create a DataFrame from a dictionary\n",
        "data = {\n",
        "    \"Name\": [\"Alice\", \"Bob\", \"Charlie\"],\n",
        "    \"Age\": [25, 30, 35],\n",
        "    \"Salary\": [50000, 60000, 70000]\n",
        "}\n",
        "\n",
        "df = pd.DataFrame(data)\n",
        "\n",
        "print(df)\n"
      ],
      "metadata": {
        "colab": {
          "base_uri": "https://localhost:8080/"
        },
        "id": "sh0gSNOaqLPD",
        "outputId": "71d951d9-1a2e-4615-a931-7a3204362acf"
      },
      "execution_count": null,
      "outputs": [
        {
          "output_type": "stream",
          "name": "stdout",
          "text": [
            "      Name  Age  Salary\n",
            "0    Alice   25   50000\n",
            "1      Bob   30   60000\n",
            "2  Charlie   35   70000\n"
          ]
        }
      ]
    },
    {
      "cell_type": "markdown",
      "source": [
        "    4.Explain the use of the groupby() method in Pandas?\n",
        "\n",
        "    he groupby() method in Pandas is used for grouping data and performing operations on those groups. It is one of the most powerful and commonly used methods in data analysis, allowing you to split a dataset, apply operations (like aggregation or transformation), and combine the results.\n",
        "\n",
        "    The groupby() method works on the principle of split-apply-combine:\n",
        "\n",
        "    1.Split: Splits the data into groups based on some criteria (e.g., unique   values in a column).\n",
        "    \n",
        "    2.Apply: Performs a function (like sum, mean, count) on each group.\n",
        "    \n",
        "    3.Combine: Combines the results of the applied function into a new object (DataFrame or Series)."
      ],
      "metadata": {
        "id": "9KFBztguqqwj"
      }
    },
    {
      "cell_type": "markdown",
      "source": [
        "    Syntax:"
      ],
      "metadata": {
        "id": "eui6ZFhvrKk1"
      }
    },
    {
      "source": [
        "import pandas as pd\n",
        "\n",
        "# Assuming you have a DataFrame named 'df' (like in your previous cell):\n",
        "df = pd.DataFrame({'col1': [1, 2, 3], 'col2': ['a', 'b', 'a']})  # Create a sample DataFrame\n",
        "\n",
        "# Now you can use groupby on the DataFrame object 'df':\n",
        "grouped = df.groupby(by='col2')\n",
        "\n",
        "# Print the grouped object to see the result\n",
        "print(grouped)\n",
        "\n",
        "# Or you can perform an aggregation:\n",
        "result = grouped['col1'].sum()\n",
        "print(result)"
      ],
      "cell_type": "code",
      "metadata": {
        "colab": {
          "base_uri": "https://localhost:8080/"
        },
        "id": "EVSUtjUKrYE4",
        "outputId": "1e66797d-a6fa-4557-9123-3f22b0c30148"
      },
      "execution_count": null,
      "outputs": [
        {
          "output_type": "stream",
          "name": "stdout",
          "text": [
            "<pandas.core.groupby.generic.DataFrameGroupBy object at 0x7b826f2f6d40>\n",
            "col2\n",
            "a    4\n",
            "b    2\n",
            "Name: col1, dtype: int64\n"
          ]
        }
      ]
    },
    {
      "cell_type": "markdown",
      "source": [
        "    Example 1: Basic Grouping and Aggregation"
      ],
      "metadata": {
        "id": "yJsljLTZromv"
      }
    },
    {
      "cell_type": "code",
      "source": [
        "import pandas as pd\n",
        "\n",
        "# Sample DataFrame\n",
        "data = {'Category': ['A', 'B', 'A', 'B', 'A', 'B'],\n",
        "        'Values': [10, 20, 30, 40, 50, 60]}\n",
        "\n",
        "df = pd.DataFrame(data)\n",
        "\n",
        "# Group by 'Category' and calculate sum\n",
        "grouped = df.groupby('Category')['Values'].sum()\n",
        "print(grouped)\n"
      ],
      "metadata": {
        "colab": {
          "base_uri": "https://localhost:8080/"
        },
        "id": "yLfk1y2prtTR",
        "outputId": "71834205-8cdb-412e-bb70-595c72dffc83"
      },
      "execution_count": null,
      "outputs": [
        {
          "output_type": "stream",
          "name": "stdout",
          "text": [
            "Category\n",
            "A     90\n",
            "B    120\n",
            "Name: Values, dtype: int64\n"
          ]
        }
      ]
    },
    {
      "cell_type": "markdown",
      "source": [
        "    Example 2: Multiple Aggregations with agg()\n",
        "    "
      ],
      "metadata": {
        "id": "mmP6P4izr1gQ"
      }
    },
    {
      "cell_type": "code",
      "source": [
        "# Grouping by 'Category' and applying multiple functions\n",
        "grouped = df.groupby('Category')['Values'].agg(['sum', 'mean', 'count'])\n",
        "print(grouped)\n"
      ],
      "metadata": {
        "colab": {
          "base_uri": "https://localhost:8080/"
        },
        "id": "dHf1Bn2Nr8mj",
        "outputId": "4ccc9961-a3dc-43c8-ce2c-9c4724537435"
      },
      "execution_count": null,
      "outputs": [
        {
          "output_type": "stream",
          "name": "stdout",
          "text": [
            "          sum  mean  count\n",
            "Category                  \n",
            "A          90  30.0      3\n",
            "B         120  40.0      3\n"
          ]
        }
      ]
    },
    {
      "cell_type": "markdown",
      "source": [
        "    Example 3: Grouping on Multiple Columns\n",
        "\n"
      ],
      "metadata": {
        "id": "EwreItjusFGF"
      }
    },
    {
      "cell_type": "code",
      "source": [
        "data = {'Category': ['A', 'A', 'B', 'B'],\n",
        "        'Subcategory': ['X', 'Y', 'X', 'Y'],\n",
        "        'Values': [10, 20, 30, 40]}\n",
        "\n",
        "df = pd.DataFrame(data)\n",
        "\n",
        "# Group by 'Category' and 'Subcategory'\n",
        "grouped = df.groupby(['Category', 'Subcategory']).sum()\n",
        "print(grouped)\n"
      ],
      "metadata": {
        "colab": {
          "base_uri": "https://localhost:8080/"
        },
        "id": "IjLXsvVzsJYO",
        "outputId": "7fd7fc38-6280-4f4a-9684-982de67b7899"
      },
      "execution_count": null,
      "outputs": [
        {
          "output_type": "stream",
          "name": "stdout",
          "text": [
            "                      Values\n",
            "Category Subcategory        \n",
            "A        X                10\n",
            "         Y                20\n",
            "B        X                30\n",
            "         Y                40\n"
          ]
        }
      ]
    },
    {
      "cell_type": "markdown",
      "source": [
        "    Example 4: Using as_index=False"
      ],
      "metadata": {
        "id": "iFyHCZL_sTzH"
      }
    },
    {
      "cell_type": "code",
      "source": [
        "# Grouping without setting group labels as the index\n",
        "grouped = df.groupby('Category', as_index=False)['Values'].sum()\n",
        "print(grouped)\n"
      ],
      "metadata": {
        "colab": {
          "base_uri": "https://localhost:8080/"
        },
        "id": "sCybhggYsVzh",
        "outputId": "64b52ea1-ca56-4fab-aa2e-06ac0ab62c75"
      },
      "execution_count": null,
      "outputs": [
        {
          "output_type": "stream",
          "name": "stdout",
          "text": [
            "  Category  Values\n",
            "0        A      30\n",
            "1        B      70\n"
          ]
        }
      ]
    },
    {
      "cell_type": "markdown",
      "source": [
        "    Example 5: Transforming Data with transform()"
      ],
      "metadata": {
        "id": "yqgy_GwysglM"
      }
    },
    {
      "cell_type": "code",
      "source": [
        "# Calculate group means and assign them to a new column\n",
        "df['GroupMean'] = df.groupby('Category')['Values'].transform('mean')\n",
        "print(df)\n"
      ],
      "metadata": {
        "colab": {
          "base_uri": "https://localhost:8080/"
        },
        "id": "YVIS1_h3skcj",
        "outputId": "01c9166b-1463-4b0a-850e-716ed11d56b6"
      },
      "execution_count": null,
      "outputs": [
        {
          "output_type": "stream",
          "name": "stdout",
          "text": [
            "  Category Subcategory  Values  GroupMean\n",
            "0        A           X      10       15.0\n",
            "1        A           Y      20       15.0\n",
            "2        B           X      30       35.0\n",
            "3        B           Y      40       35.0\n"
          ]
        }
      ]
    },
    {
      "cell_type": "markdown",
      "source": [
        "    5.Why is Seaborn preferred for statistical visualizations?\n",
        "\n",
        "    Seaborn is often preferred for statistical visualizations because it is specifically designed to handle and visualize complex datasets in a way that is both intuitive and visually appealing. Here are some key reasons why Seaborn stands out:\n",
        "\n",
        "    1.Built-in Statistical Features\n",
        "    Seaborn integrates statistical estimation and aggregation directly into its plotting functions.\n",
        "    Functions like sns.boxplot(), sns.violinplot(), sns.barplot(), and sns.lmplot() automatically calculate and display distributions, confidence intervals, and regression lines without additional coding.\n",
        "   \n",
        "    2.Elegant Default Styles\n",
        "    Seaborn provides clean, modern, and visually appealing styles out-of-the-box (sns.set_style()).\n",
        "    It minimizes the need for manual formatting, which saves time and enhances clarity for statistical plots.\n",
        "    \n",
        "    3.High-level Abstraction\n",
        "    Seaborn simplifies the process of creating complex visualizations compared to libraries like Matplotlib.\n",
        "    With just a single line of code, Seaborn can produce multi-faceted plots, such as:\n",
        "    Pair plots (sns.pairplot) for exploring relationships.\n",
        "    Facet grids (sns.FacetGrid) for conditioning data across multiple subplots.\n",
        "    \n",
        "    4.Works Well with Pandas DataFrames\n",
        "    Seaborn integrates seamlessly with Pandas, enabling direct plotting of data stored in DataFrames.\n",
        "    Plotting functions can automatically interpret column names for axes, hue, and grouping.\n",
        "    \n",
        "    5.Advanced Visualizations for Distributions\n",
        "    Seaborn offers functions like sns.kdeplot() and sns.distplot() for kernel density estimation and histograms.\n",
        "    It also supports violin plots, swarm plots, and box plots to better analyze distributions and detect outliers.\n",
        "    \n",
        "    6.Color Encoding and Grouping\n",
        "    Seaborn makes it easy to encode data categories with color palettes using the hue parameter.\n",
        "    This allows multi-dimensional statistical comparisons (e.g., split by gender, age group) within a single plot.\n",
        "    \n",
        "    7.Built-in Support for Regression Plots\n",
        "    Functions like sns.regplot() and sns.lmplot() automatically fit and visualize regression models with confidence intervals.\n",
        "    This makes Seaborn ideal for exploratory data analysis where understanding relationships is critical.\n",
        "    \n",
        "    8.Integration with Matplotlib\n",
        "    Seaborn is built on top of Matplotlib, which allows users to further customize plots after they are created.\n",
        "    You get the best of both worlds: high-level simplicity and low-level flexibility.\n",
        "    \n",
        "    9.Multi-plot Grids\n",
        "    Seaborn simplifies creating grids of subplots to visualize subsets of data with:\n",
        "    sns.FacetGrid (general purpose).\n",
        "    sns.catplot and sns.relplot for category- or relationship-based visualizations.\n",
        "    \n",
        "    10.Consistency Across Visualizations\n",
        "    Seaborn ensures consistent visual aesthetics, making it easier to compare different plots within a project."
      ],
      "metadata": {
        "id": "UYbj3bHIsxKe"
      }
    },
    {
      "cell_type": "markdown",
      "source": [
        "    6.What are the differences between NumPy arrays and Python lists?\n",
        "\n",
        "    NumPy arrays and Python lists are both used to store collections of data, but they have key differences in terms of functionality, performance, and usage:\n",
        "\n",
        "    1.Data Type Consistency\n",
        "    NumPy Array: All elements in a NumPy array must have the same data type (e.g., all integers, all floats). This makes it more efficient for numerical computations.\n",
        "    Python List: Lists can contain elements of different data types (e.g., integers, strings, and floats all in one list).\n",
        "    \n",
        "    2.Performance\n",
        "    NumPy Array: Significantly faster for large datasets because NumPy uses C-optimized code and memory-efficient data structures.\n",
        "    Python List: Slower for large-scale numerical operations because of the overhead of dynamic typing and Python's native object handling.\n",
        "    \n",
        "    3.Operations\n",
        "    NumPy Array: Supports element-wise operations and broadcasting. Mathematical operations can be performed on entire arrays without looping."
      ],
      "metadata": {
        "id": "pM8Q_dk7wrHy"
      }
    },
    {
      "cell_type": "code",
      "source": [
        "import numpy as np\n",
        "a = np.array([1, 2, 3])\n",
        "b = np.array([4, 5, 6])\n",
        "print(a + b)\n"
      ],
      "metadata": {
        "colab": {
          "base_uri": "https://localhost:8080/"
        },
        "id": "UBRjpWXOx25Q",
        "outputId": "9dbb389b-edbe-4f78-a7e0-4b033b359ff0"
      },
      "execution_count": null,
      "outputs": [
        {
          "output_type": "stream",
          "name": "stdout",
          "text": [
            "[5 7 9]\n"
          ]
        }
      ]
    },
    {
      "cell_type": "markdown",
      "source": [
        "    Python List: Requires manual loops or list comprehensions for element-wise operations.\n",
        "\n"
      ],
      "metadata": {
        "id": "dI40yfLHyAVq"
      }
    },
    {
      "cell_type": "code",
      "source": [
        "a = [1, 2, 3]\n",
        "b = [4, 5, 6]\n",
        "result = [x + y for x, y in zip(a, b)]\n",
        "\n"
      ],
      "metadata": {
        "id": "XOEg8krDyb8O"
      },
      "execution_count": null,
      "outputs": []
    },
    {
      "cell_type": "markdown",
      "source": [
        "    4.Memory Efficiency\n",
        "    NumPy Array: More memory-efficient because data is stored as contiguous blocks in memory, enabling better caching and access times.\n",
        "    Python List: Less memory-efficient because it stores references to objects rather than the objects themselves.\n",
        "    \n",
        "    5.Built-in Functionalities\n",
        "    NumPy Array: Provides a wide range of mathematical and statistical functions (e.g., mean, sum, standard deviation) and linear algebra capabilities."
      ],
      "metadata": {
        "id": "VRluLJuvynHw"
      }
    },
    {
      "cell_type": "code",
      "source": [
        "a = np.array([1, 2, 3])\n",
        "print(a.mean())\n",
        "print(np.dot(a, a))\n"
      ],
      "metadata": {
        "colab": {
          "base_uri": "https://localhost:8080/"
        },
        "id": "OKvev0Ojy1_y",
        "outputId": "cfb10a3f-88b2-4577-cd1c-aadde46c539c"
      },
      "execution_count": null,
      "outputs": [
        {
          "output_type": "stream",
          "name": "stdout",
          "text": [
            "2.0\n",
            "14\n"
          ]
        }
      ]
    },
    {
      "cell_type": "markdown",
      "source": [
        "    Python List: Requires manual implementation or importing additional libraries for advanced operations.\n",
        "    \n",
        "    6.Resizing\n",
        "    NumPy Array: Fixed in size once created. To change size, you must create a new array or use specific resizing functions.\n",
        "    Python List: Dynamic in size; you can append, remove, or change elements without recreating the list.\n",
        "    \n",
        "    7.Slicing and Indexing\n",
        "    NumPy Array: Supports advanced slicing, multi-dimensional indexing, and boolean masking."
      ],
      "metadata": {
        "id": "BBfKbiPRzJEw"
      }
    },
    {
      "cell_type": "code",
      "source": [
        "a = np.array([[1, 2], [3, 4]])\n",
        "print(a[:, 0])\n"
      ],
      "metadata": {
        "colab": {
          "base_uri": "https://localhost:8080/"
        },
        "id": "fuYWlw6gzZqh",
        "outputId": "19b1e988-1f6e-4b23-f287-f9c67eda6c64"
      },
      "execution_count": null,
      "outputs": [
        {
          "output_type": "stream",
          "name": "stdout",
          "text": [
            "[1 3]\n"
          ]
        }
      ]
    },
    {
      "cell_type": "markdown",
      "source": [
        "    Python List: Only supports basic slicing and indexing. No built-in support for multi-dimensional data.\n",
        "    \n",
        "    8.Dimensionality\n",
        "    NumPy Array: Designed to handle multi-dimensional data easily (e.g., 2D matrices, 3D tensors).\n",
        "    Python List: Lists can be nested, but they are not optimized for multi-dimensional operations"
      ],
      "metadata": {
        "id": "0YOq6kbHz_Oj"
      }
    },
    {
      "cell_type": "markdown",
      "source": [
        "    7.What is a heatmap, and when should it be used?\n",
        "    A heatmap is a graphical representation of data where individual values are represented by colors. It provides an intuitive way to visualize patterns, relationships, or trends within data, particularly when working with large datasets or complex matrices.\n",
        "\n",
        "    When to Use a Heatmap:\n",
        "    \n",
        "    1.Visualizing Correlations:\n",
        "\n",
        "    To display relationships between variables in a correlation matrix.\n",
        "    Example: Analyzing correlation between multiple stock prices.\n",
        "    \n",
        "    2.Highlighting Data Distribution:\n",
        "\n",
        "    To observe how values are distributed across a grid or matrix.\n",
        "    Example: Heatmaps of customer activity on a website.\n",
        "    \n",
        "    3.Analyzing Geographical Data:\n",
        "\n",
        "    To visualize intensity over a geographical area.\n",
        "    Example: A heatmap of temperatures across a region or crime density in a city.\n",
        "    \n",
        "    4.Displaying Patterns in Matrices:\n",
        "\n",
        "    To interpret data with rows and columns, such as confusion matrices or gene expression data.\n",
        "    Example: Heatmaps in biology for gene expression analysis.\n",
        "    \n",
        "    5.Tracking Engagement:\n",
        "\n",
        "    To understand user interactions or activities.\n",
        "    Example: Website heatmaps showing areas with the most clicks."
      ],
      "metadata": {
        "id": "UBkUioN70PY0"
      }
    },
    {
      "cell_type": "markdown",
      "source": [
        "    8.What does the term “vectorized operation” mean in NumPy?\n",
        "    In NumPy, a vectorized operation refers to performing an operation on entire arrays or sequences of data simultaneously, rather than iterating over individual elements with explicit loops. NumPy achieves this by leveraging optimized, low-level implementations (usually written in C) that make such operations much faster than manually looping through Python data structures.\n",
        "    "
      ],
      "metadata": {
        "id": "qLFA4Ynr14VG"
      }
    },
    {
      "cell_type": "markdown",
      "source": [
        "    Example of Vectorized vs. Non-Vectorized Code\n",
        "    Non-Vectorized Code (using a Python loop):"
      ],
      "metadata": {
        "id": "cn4Cluo73BZ4"
      }
    },
    {
      "cell_type": "code",
      "source": [
        "import numpy as np\n",
        "\n",
        "a = np.array([1, 2, 3, 4])\n",
        "b = np.array([5, 6, 7, 8])\n",
        "result = []\n",
        "\n",
        "for i in range(len(a)):\n",
        "    result.append(a[i] + b[i])\n",
        "print(result)\n"
      ],
      "metadata": {
        "colab": {
          "base_uri": "https://localhost:8080/"
        },
        "id": "iReDvXuz3Mdz",
        "outputId": "0ebfcb18-3913-41fa-9f29-3bd8bf9160e4"
      },
      "execution_count": null,
      "outputs": [
        {
          "output_type": "stream",
          "name": "stdout",
          "text": [
            "[6, 8, 10, 12]\n"
          ]
        }
      ]
    },
    {
      "cell_type": "markdown",
      "source": [
        "    Vectorized Operation:"
      ],
      "metadata": {
        "id": "lT_9uwzc3YIZ"
      }
    },
    {
      "cell_type": "code",
      "source": [
        "import numpy as np\n",
        "\n",
        "a = np.array([1, 2, 3, 4])\n",
        "b = np.array([5, 6, 7, 8])\n",
        "\n",
        "result = a + b  # Vectorized addition\n",
        "print(result)\n"
      ],
      "metadata": {
        "colab": {
          "base_uri": "https://localhost:8080/"
        },
        "id": "qnwUj-sl3dOw",
        "outputId": "e155ba95-bb37-4f77-e0d6-422370f16a87"
      },
      "execution_count": null,
      "outputs": [
        {
          "output_type": "stream",
          "name": "stdout",
          "text": [
            "[ 6  8 10 12]\n"
          ]
        }
      ]
    },
    {
      "cell_type": "markdown",
      "source": [
        "    Here, the vectorized a + b operation automatically applies addition element-wise to the arrays without a loop."
      ],
      "metadata": {
        "id": "xVOVXd_53o0F"
      }
    },
    {
      "cell_type": "markdown",
      "source": [
        "    9.How does Matplotlib differ from Plotly?\n",
        "\n",
        "    Matplotlib and Plotly are two popular Python libraries for data visualization, but they differ in functionality, interactivity, and use cases:\n",
        "\n",
        "    1.Interactivity\n",
        "    Matplotlib: Primarily produces static plots. While it has limited interactivity (e.g., zoom or pan in some environments), it is more geared toward publication-quality static visualizations.\n",
        "    Plotly: Designed for interactive plots by default. Users can zoom, hover, and export figures seamlessly without extra effort.\n",
        "    \n",
        "    2.Ease of Use\n",
        "    Matplotlib: Requires more boilerplate code for basic visualizations. While extremely customizable, it can be more challenging for beginners.\n",
        "    Plotly: Offers concise syntax for complex visualizations and is user-friendly for beginners.\n",
        "    \n",
        "    3.Customization\n",
        "    Matplotlib: Highly customizable; you can control almost every aspect of the figure, from labels to tick marks, but customization can require more manual code.\n",
        "    Plotly: Also customizable, but with fewer manual steps required for layout, tooltips, and formatting. The interactive design automatically handles many details.\n",
        "    \n",
        "    4.Output Formats\n",
        "    Matplotlib: Produces static outputs like PNG, PDF, or SVG. It works well for embedding visualizations into reports, articles, and static applications.\n",
        "    Plotly: Generates interactive, web-based visualizations (HTML, JavaScript). It also supports static image exports but is more often used for dashboards and web applications.\n",
        "    \n",
        "    5.Visual Styles\n",
        "    Matplotlib: By default, it has a simple, classic look that is more suitable for academic and technical reports.\n",
        "    Plotly: Offers modern, polished visual aesthetics right out of the box, making it ideal for dashboards and presentations.\n",
        "    \n",
        "    6.Integration\n",
        "    Matplotlib: Integrates well with libraries like pandas, NumPy, and Seaborn for statistical plots. It works in Jupyter Notebooks, scripts, or standalone applications.\n",
        "    Plotly: Integrates with dash for building interactive web apps. It works seamlessly in Jupyter Notebooks and also supports other languages like R and JavaScript.\n",
        "    \n",
        "    7.Performance\n",
        "    Matplotlib: Better suited for static and smaller datasets. Rendering large or complex plots can sometimes be slow.\n",
        "    Plotly: More efficient with interactive visualizations and can handle larger datasets well, particularly with WebGL-based plots.\n"
      ],
      "metadata": {
        "id": "7uEoEC0L4B5s"
      }
    },
    {
      "cell_type": "markdown",
      "source": [
        "    10.What is the significance of hierarchical indexing in Pandas?\n",
        "    \n",
        "    Hierarchical indexing in Pandas, also known as MultiIndex, is a powerful feature that allows you to work with data in a more flexible and organized way. It enables the representation of higher-dimensional data in a lower-dimensional (2D) structure, such as a DataFrame or Series. Here's why it's significant:\n",
        "\n",
        "    1.Multi-dimensional Data Representation:\n",
        "    Hierarchical indexing allows you to use multiple keys (or levels) to index data. This makes it easier to represent and work with data that has multiple dimensions. For example, you could use a MultiIndex to represent data that has both categories and subcategories, like sales data with regions and time periods.\n",
        "\n",
        "    2.Efficient Data Selection:\n",
        "    By using hierarchical indexing, you can easily slice and select data at different levels of granularity. This is particularly useful when you want to access subsets of data based on multiple criteria without flattening the structure. For example, you could access sales data for a specific region and year or even drill down to a particular quarter.\n",
        "\n",
        "    3.Better Organization:\n",
        "    It helps in organizing complex datasets in a way that reflects their natural hierarchy, such as groupings or nested categories, making it easier to analyze and visualize. It can represent things like date and time information (e.g., year > month > day) or geographical data (e.g., country > state > city).\n",
        "\n",
        "    4.Efficient Aggregation:\n",
        "    MultiIndex enables more efficient grouping and aggregation. You can group by multiple columns and then apply aggregation functions like sum(), mean(), or max() to each group, allowing you to work with complex data aggregations while maintaining a clear structure.\n",
        "\n",
        "    5.Improved Data Manipulation:\n",
        "    Hierarchical indexing enhances operations like reshaping (using pivot_table, stack, unstack), joining, and merging data. These operations become more intuitive when you're working with data that has multiple levels of indices, as they can respect the hierarchical relationships between the data.\n",
        "\n",
        "    6.Handling Missing Data:\n",
        "    It provides flexibility when dealing with missing data. You can perform operations over different levels of a MultiIndex and fill missing values according to different levels of the hierarchy.\n",
        "\n",
        "    Example of Hierarchical Indexing:\n",
        "    Consider the following multi-level index scenario with a DataFrame containing sales data:"
      ],
      "metadata": {
        "id": "j95oQEzI5R_7"
      }
    },
    {
      "cell_type": "code",
      "source": [
        "import pandas as pd\n",
        "import numpy as np\n",
        "\n",
        "# Sample data\n",
        "data = {'Sales': [100, 200, 150, 300, 250, 350]}\n",
        "index = pd.MultiIndex.from_tuples([('2023', 'Q1'), ('2023', 'Q2'), ('2023', 'Q3'),\n",
        "                                   ('2024', 'Q1'), ('2024', 'Q2'), ('2024', 'Q3')],\n",
        "                                  names=['Year', 'Quarter'])\n",
        "\n",
        "df = pd.DataFrame(data, index=index)\n",
        "print(df)\n"
      ],
      "metadata": {
        "colab": {
          "base_uri": "https://localhost:8080/"
        },
        "id": "MuZocrVc6GNz",
        "outputId": "52a91f19-06c8-4fff-a16a-d9d7ecb018fe"
      },
      "execution_count": null,
      "outputs": [
        {
          "output_type": "stream",
          "name": "stdout",
          "text": [
            "              Sales\n",
            "Year Quarter       \n",
            "2023 Q1         100\n",
            "     Q2         200\n",
            "     Q3         150\n",
            "2024 Q1         300\n",
            "     Q2         250\n",
            "     Q3         350\n"
          ]
        }
      ]
    },
    {
      "cell_type": "markdown",
      "source": [
        "    This will create a DataFrame indexed by both 'Year' and 'Quarter'. With hierarchical indexing, you can:\n",
        "\n",
        "    Slice data by a particular year (e.g., all data for '2023')\n",
        "    Drill down by both year and quarter (e.g., data for '2023 Q1')\n",
        "    Aggregate data at the 'Year' level (e.g., sum of sales per year)"
      ],
      "metadata": {
        "id": "BBucHBB-6gHW"
      }
    },
    {
      "cell_type": "markdown",
      "source": [
        "    11.A What is the role of Seaborn’s pairplot() function?\n",
        "\n",
        "    The pairplot() function in Seaborn is used to create a grid of scatter plots that display pairwise relationships between multiple variables in a dataset. It helps in visualizing the distribution of each variable as well as the correlations between each pair of variables.\n",
        "\n",
        "    Here’s how it works:\n",
        "\n",
        "    1.Scatter Plots: For each pair of variables, it creates a scatter plot to show their relationship.\n",
        "    \n",
        "    2.Diagonal Histograms: The diagonal of the grid typically shows univariate plots (like histograms or KDE plots) to show the distribution of each variable.\n",
        "    \n",
        "    3.Customizable: You can customize it by specifying options like color grouping by categorical variables or changing the kind of plot displayed on the diagonal (e.g., density plots instead of histograms)."
      ],
      "metadata": {
        "id": "6QFDEA3u6tXo"
      }
    },
    {
      "cell_type": "markdown",
      "source": [
        "    Here’s an example of using pairplot():"
      ],
      "metadata": {
        "id": "dLsEYmFA70Il"
      }
    },
    {
      "cell_type": "code",
      "source": [
        "import seaborn as sns\n",
        "import matplotlib.pyplot as plt\n",
        "\n",
        "# Load an example dataset\n",
        "data = sns.load_dataset(\"iris\")\n",
        "\n",
        "# Create the pairplot\n",
        "sns.pairplot(data, hue=\"species\")\n",
        "\n",
        "plt.show()\n"
      ],
      "metadata": {
        "colab": {
          "base_uri": "https://localhost:8080/",
          "height": 1000
        },
        "id": "c9DPl2cy75k3",
        "outputId": "9dca7050-e599-4fb5-b904-5f6757872306"
      },
      "execution_count": null,
      "outputs": [
        {
          "output_type": "display_data",
          "data": {
            "text/plain": [
              "<Figure size 1117.75x1000 with 20 Axes>"
            ],
            "image/png": "[encoded data removed]"
          },
          "metadata": {}
        }
      ]
    },
    {
      "cell_type": "markdown",
      "source": [
        "    This will produce a pairwise scatter plot for each pair of features in the dataset, colored by the \"species\" column."
      ],
      "metadata": {
        "id": "IRM84-rY8K9x"
      }
    },
    {
      "cell_type": "markdown",
      "source": [
        "    12.What is the purpose of the describe() function in Pandas?\n",
        "    In Pandas, the describe() function is used to generate a summary of statistics for numerical (and sometimes categorical) columns in a DataFrame or Series. It provides key insights into the distribution and spread of the data, which helps in understanding its characteristics.\n",
        "\n",
        "    For numerical data, describe() typically returns the following statistics:\n",
        "\n",
        "    count: The number of non-null entries.\n",
        "    mean: The average of the data.\n",
        "    std: The standard deviation (a measure of variability).\n",
        "    min: The minimum value.\n",
        "    25%: The 25th percentile (Q1), which is the first quartile.\n",
        "    50%: The 50th percentile (Q2 or median), the middle value.\n",
        "    75%: The 75th percentile (Q3), the third quartile.\n",
        "    max: The maximum value.\n",
        "\n",
        "    For categorical data (if the describe() function is applied to object or category types), it provides:\n",
        "\n",
        "    count: The number of non-null entries.\n",
        "    unique: The number of distinct values.\n",
        "    top: The most frequent value (mode).\n",
        "    freq: The frequency of the most frequent value.\n",
        "    \n",
        "    Here’s an example of how it works in practice:"
      ],
      "metadata": {
        "id": "YBqhxS8w8Slj"
      }
    },
    {
      "cell_type": "code",
      "source": [
        "import pandas as pd\n",
        "\n",
        "# Example DataFrame\n",
        "data = {'age': [23, 45, 56, 34, 25], 'gender': ['M', 'F', 'M', 'F', 'M']}\n",
        "df = pd.DataFrame(data)\n",
        "\n",
        "# Get summary statistics for numerical columns\n",
        "print(df.describe())\n",
        "\n",
        "# Get summary statistics for categorical columns\n",
        "print(df.describe(include=['object']))\n"
      ],
      "metadata": {
        "colab": {
          "base_uri": "https://localhost:8080/"
        },
        "id": "AjaFvbGR8_8B",
        "outputId": "8bad8b5f-2310-4352-d664-97b0d5c74fde"
      },
      "execution_count": null,
      "outputs": [
        {
          "output_type": "stream",
          "name": "stdout",
          "text": [
            "             age\n",
            "count   5.000000\n",
            "mean   36.600000\n",
            "std    13.903237\n",
            "min    23.000000\n",
            "25%    25.000000\n",
            "50%    34.000000\n",
            "75%    45.000000\n",
            "max    56.000000\n",
            "       gender\n",
            "count       5\n",
            "unique      2\n",
            "top         M\n",
            "freq        3\n"
          ]
        }
      ]
    },
    {
      "cell_type": "markdown",
      "source": [
        "    This function is a quick and easy way to get an overview of your dataset’s central tendencies, spread, and other basic statistical features."
      ],
      "metadata": {
        "id": "G5JCB_oz9JzN"
      }
    },
    {
      "cell_type": "markdown",
      "source": [
        "    13.Why is handling missing data important in Pandas?\n",
        "    Handling missing data is crucial in Pandas because missing or incomplete data can lead to several issues in data analysis, such as:\n",
        "\n",
        "    1.Inaccurate Analysis: If missing data isn't handled properly, it can skew analysis, leading to incorrect conclusions, predictions, or models. For example, missing values in numerical data can distort mean, median, or other statistical measures.\n",
        "\n",
        "    2.Errors in Computations: Many Pandas operations (like aggregations, mathematical operations, or merging datasets) may fail or return NaN (Not a Number) values if missing data is not dealt with, potentially breaking your pipeline or analysis.\n",
        "\n",
        "    3.Loss of Information: If missing data is not handled correctly, valuable insights might be missed. Sometimes, missing data can be indicative of a pattern or relationship in the dataset, and addressing it can reveal new trends.\n",
        "\n",
        "    4.Improves Model Performance: When building machine learning models, missing data must be handled before feeding the data into the model. Many models (especially traditional ones like linear regression or decision trees) cannot handle missing values directly, so missing data needs to be imputed, removed, or otherwise addressed.\n",
        "\n",
        "    5.Data Integrity: Proper handling of missing data ensures the integrity of your dataset. It allows you to ensure the quality of your analysis or model by addressing the root cause of missing data.\n",
        "\n",
        "    6.Flexibility in Imputation: Pandas provides several methods to handle missing data, such as imputing with the mean, median, mode, or more advanced techniques like interpolation. Having missing data can give you the opportunity to test different imputation techniques to see which one works best for your specific task."
      ],
      "metadata": {
        "id": "10fcP-bA98KY"
      }
    },
    {
      "cell_type": "markdown",
      "source": [
        "    14.What are the benefits of using Plotly for data visualization?\n",
        "    Using Plotly for data visualization offers several benefits, making it a popular choice for both basic and advanced visualizations. Here are the key advantages:\n",
        "\n",
        "    1.Interactivity\n",
        "    Dynamic Visuals: Plotly creates highly interactive visualizations by default, allowing users to zoom, pan, hover for tooltips, and more.\n",
        "    User Engagement: Interactive elements help users explore data intuitively without needing to write additional code.\n",
        "   \n",
        "    2.Ease of Use\n",
        "    Simple APIs: Plotly provides user-friendly APIs in Python, R, MATLAB, and JavaScript, making it accessible to users from various programming backgrounds.\n",
        "    Built-in Themes: It comes with a range of pre-built templates and styles for quick deployment.\n",
        "    \n",
        "    3.Wide Range of Chart Types\n",
        "    Basic to Advanced: Supports a variety of visualizations, including line charts, bar charts, scatter plots, heatmaps, choropleth maps, and 3D plots.\n",
        "    Customizable Dashboards: Supports the integration of multiple charts into dashboards using Dash, Plotly’s web application framework.\n",
        "    \n",
        "    4.Cross-Platform Compatibility\n",
        "    Browser-Based: Visualizations are rendered in web browsers using WebGL and D3.js, ensuring compatibility across devices.\n",
        "    Export Options: Charts can be saved as static images (PNG, PDF, SVG) or embedded in web pages.\n",
        "    \n",
        "    5.Customization\n",
        "    Highly customizable with options for layout, styling, color schemes, and annotations.\n",
        "    Enables fine-tuned control over axes, legends, and hover functionality.\n",
        "    \n",
        "    6.Open Source and Free Tier\n",
        "    Plotly’s core libraries are open source, making it an affordable option for many users.\n",
        "    Premium features are available for enterprise users requiring additional functionalities.\n",
        "    \n",
        "    7.3D and Geospatial Visualizations\n",
        "    3D Support: Offers 3D scatter plots, surface plots, and mesh plots, which are not easily available in many other libraries.\n",
        "    Maps: Supports a wide range of geospatial visualizations, including choropleth maps, scatter maps, and mapbox integration.\n",
        "    \n",
        "    8.Integration with Other Tools\n",
        "    Libraries: Integrates seamlessly with popular libraries like Pandas, NumPy, and Matplotlib.\n",
        "    Frameworks: Works well with web frameworks like Flask and Django for building full-stack applications.\n",
        "    \n",
        "    9.Real-Time Data Visualization\n",
        "    With Dash, you can create real-time dashboards that update dynamically, ideal for monitoring live data streams.\n",
        "    \n",
        "    10.Community and Documentation\n",
        "    A large, active community and extensive documentation make it easy to find support and tutorials."
      ],
      "metadata": {
        "id": "904Xg0kNvF5J"
      }
    },
    {
      "cell_type": "markdown",
      "source": [
        "    15.A How does NumPy handle multidimensional arrays?\n",
        "    NumPy is specifically designed for efficient handling and manipulation of multidimensional arrays, called ndarray objects. Here's how NumPy handles these arrays:\n",
        "\n",
        "    1.Representation\n",
        "    A NumPy array (ndarray) is a grid of elements (numbers) of the same data type. The array can have multiple dimensions:\n",
        "    1D array: Like a list.\n",
        "    2D array: Like a matrix.\n",
        "    nD array: Extends to higher dimensions (3D, 4D, etc.).\n",
        "\n",
        "    For example:"
      ],
      "metadata": {
        "id": "CDJMvwsywIeF"
      }
    },
    {
      "cell_type": "code",
      "source": [
        "import numpy as np\n",
        "\n",
        "# 1D array\n",
        "a = np.array([1, 2, 3])\n",
        "\n",
        "# 2D array\n",
        "b = np.array([[1, 2], [3, 4]])\n",
        "\n",
        "# 3D array\n",
        "c = np.array([[[1, 2], [3, 4]], [[5, 6], [7, 8]]])\n"
      ],
      "metadata": {
        "id": "ACNhLdjwwiZF"
      },
      "execution_count": null,
      "outputs": []
    },
    {
      "cell_type": "markdown",
      "source": [
        "    2.Shape and Dimensions\n",
        "    Shape: Describes the number of elements along each dimension.\n",
        "    array.shape gives a tuple of dimensions.\n",
        "    Dimensionality: The number of dimensions is given by array.ndim.\n",
        "\n",
        "    For example:"
      ],
      "metadata": {
        "id": "QEO_TpYKw0Ya"
      }
    },
    {
      "cell_type": "code",
      "source": [
        "print(b.shape)\n",
        "print(b.ndim)\n"
      ],
      "metadata": {
        "colab": {
          "base_uri": "https://localhost:8080/"
        },
        "id": "-xahCCLHw8-i",
        "outputId": "2968b2a5-0fc1-4f0a-a1bc-1fe3cb935247"
      },
      "execution_count": null,
      "outputs": [
        {
          "output_type": "stream",
          "name": "stdout",
          "text": [
            "(2, 2)\n",
            "2\n"
          ]
        }
      ]
    },
    {
      "cell_type": "markdown",
      "source": [
        "    3.Indexing and Slicing\n",
        "    NumPy allows multidimensional indexing to access individual elements or slices.\n",
        "    Indexing follows the row-major order (C-style).\n",
        "    \n",
        "    Examples:"
      ],
      "metadata": {
        "id": "CYZhaUA-xIqi"
      }
    },
    {
      "cell_type": "code",
      "source": [
        "# Accessing elements\n",
        "print(b[0, 1])  # Accesses element in row 0, column 1\n",
        "\n",
        "# Slicing\n",
        "print(b[:, 1])  # Selects all rows, column 1\n"
      ],
      "metadata": {
        "colab": {
          "base_uri": "https://localhost:8080/"
        },
        "id": "oOFXmuBJxS_R",
        "outputId": "de5cf900-4789-4973-89d1-694565114d0a"
      },
      "execution_count": null,
      "outputs": [
        {
          "output_type": "stream",
          "name": "stdout",
          "text": [
            "2\n",
            "[2 4]\n"
          ]
        }
      ]
    },
    {
      "cell_type": "markdown",
      "source": [
        "    4.Broadcasting\n",
        "    NumPy arrays of different shapes can interact during operations using broadcasting.\n",
        "    Broadcasting aligns arrays by automatically expanding their dimensions to be compatible.\n",
        "\n",
        "    Example:"
      ],
      "metadata": {
        "id": "lUstSpQGxqo2"
      }
    },
    {
      "cell_type": "code",
      "source": [
        "x = np.array([[1, 2], [3, 4]])\n",
        "y = np.array([10, 20])\n",
        "z = x + y  # Broadcasts y to match x's shape\n",
        "print(z)\n",
        "\n"
      ],
      "metadata": {
        "colab": {
          "base_uri": "https://localhost:8080/"
        },
        "id": "k8S1kXhUxz6o",
        "outputId": "c01ac83a-9d41-44e3-e8d9-dadf477cdebf"
      },
      "execution_count": null,
      "outputs": [
        {
          "output_type": "stream",
          "name": "stdout",
          "text": [
            "[[11 22]\n",
            " [13 24]]\n"
          ]
        }
      ]
    },
    {
      "cell_type": "markdown",
      "source": [
        "    5.Efficient Memory Layout\n",
        "    NumPy uses a contiguous block of memory to store data, enabling fast computation.\n",
        "    Arrays can be stored in row-major (C-contiguous) or column-major (Fortran-contiguous) order.\n",
        "\n",
        "    You can check the memory layout with:"
      ],
      "metadata": {
        "id": "NkDmwOf7x6og"
      }
    },
    {
      "cell_type": "code",
      "source": [
        "print(a.flags)\n"
      ],
      "metadata": {
        "colab": {
          "base_uri": "https://localhost:8080/"
        },
        "id": "MQz2qq36yNcW",
        "outputId": "dc2c0d84-a193-412f-f132-ef2e0f9eb662"
      },
      "execution_count": null,
      "outputs": [
        {
          "output_type": "stream",
          "name": "stdout",
          "text": [
            "  C_CONTIGUOUS : True\n",
            "  F_CONTIGUOUS : True\n",
            "  OWNDATA : True\n",
            "  WRITEABLE : True\n",
            "  ALIGNED : True\n",
            "  WRITEBACKIFCOPY : False\n",
            "\n"
          ]
        }
      ]
    },
    {
      "cell_type": "markdown",
      "source": [
        "    6.Universal Functions (ufuncs)\n",
        "    NumPy provides element-wise operations on multidimensional arrays using universal functions.\n",
        "    \n",
        "    Example:"
      ],
      "metadata": {
        "id": "rVPuUBi2yUo9"
      }
    },
    {
      "cell_type": "code",
      "source": [
        "d = np.array([[1, 2], [3, 4]])\n",
        "print(np.sqrt(d))  # Element-wise square root\n"
      ],
      "metadata": {
        "colab": {
          "base_uri": "https://localhost:8080/"
        },
        "id": "_9lwkyAWyb0W",
        "outputId": "ae6671e0-7f7e-47eb-a690-d93133318f56"
      },
      "execution_count": null,
      "outputs": [
        {
          "output_type": "stream",
          "name": "stdout",
          "text": [
            "[[1.         1.41421356]\n",
            " [1.73205081 2.        ]]\n"
          ]
        }
      ]
    },
    {
      "cell_type": "markdown",
      "source": [
        "    7.Axis-Based Operations\n",
        "    NumPy supports operations along specific axes using the axis parameter.\n",
        "    Axis 0: Operates along rows (downward).\n",
        "    Axis 1: Operates along columns (sideways).\n",
        "    \n",
        "    Example:"
      ],
      "metadata": {
        "id": "V1LLk-C5yh39"
      }
    },
    {
      "cell_type": "code",
      "source": [
        "print(d.sum(axis=0))  # Sum along columns\n",
        "print(d.sum(axis=1))  # Sum along rows\n"
      ],
      "metadata": {
        "colab": {
          "base_uri": "https://localhost:8080/"
        },
        "id": "XWdy5Z__yvLk",
        "outputId": "626b62c2-fb14-49fd-d0d0-4a463a4419d2"
      },
      "execution_count": null,
      "outputs": [
        {
          "output_type": "stream",
          "name": "stdout",
          "text": [
            "[4 6]\n",
            "[3 7]\n"
          ]
        }
      ]
    },
    {
      "cell_type": "markdown",
      "source": [
        "    16.What is the role of Bokeh in data visualization?\n",
        "    Bokeh is a powerful Python library for creating interactive and visually appealing data visualizations. Its primary role in data visualization is to enable the creation of rich, interactive, and web-ready plots, dashboards, and applications. Bokeh stands out for its ability to handle large datasets efficiently and its flexibility in rendering visualizations directly in modern web browsers using JavaScript.\n",
        "\n",
        "    Key Features and Roles of Bokeh:\n",
        "    \n",
        "    1.Interactive Visualizations:\n",
        "    Bokeh enables the creation of interactive plots where users can zoom, pan, and hover over data points for additional information.\n",
        "    It supports widgets such as sliders, dropdowns, and buttons, allowing for dynamic updates to visualizations.\n",
        "    \n",
        "    2.Web-Ready Output:\n",
        "    Visualizations created with Bokeh can be embedded in web applications, shared as standalone HTML files, or integrated into Jupyter Notebooks.\n",
        "    \n",
        "    3.High Performance:\n",
        "    Bokeh can handle large datasets efficiently by leveraging WebGL for rendering, making it suitable for big data visualizations.\n",
        "    \n",
        "    4.Customizable and Flexible:\n",
        "    Users can create a wide range of visualizations, from simple line and scatter plots to complex dashboards and multi-plot layouts.\n",
        "    It provides fine-grained control over the appearance of plots, such as customizing axes, tooltips, and legends.\n",
        "    \n",
        "    5.Integration with Other Tools:\n",
        "    Bokeh integrates seamlessly with popular data manipulation and analysis libraries like Pandas and NumPy.\n",
        "    It can also be combined with other visualization libraries like Matplotlib and Seaborn for extended functionality.\n",
        "    \n",
        "    6.Server-Side Applications:\n",
        "    With Bokeh Server, users can create interactive web applications that update in real-time based on user input or external data streams."
      ],
      "metadata": {
        "id": "zwxtNzK4y8ib"
      }
    },
    {
      "cell_type": "markdown",
      "source": [
        "    17.Explain the difference between apply() and map() in Pandas?\n",
        "    In Pandas, both apply() and map() are used to perform operations on data, but they differ in their usage and functionality. Here's a detailed comparison:\n",
        "\n",
        "    map()\n",
        "    Purpose: The map() function is specifically designed for Series objects. It applies a function, a dictionary, or a mapping to each element of the Series.\n",
        "\n",
        "    Input:\n",
        "    A function, such as lambda x: x + 1.\n",
        "    A dictionary, where keys map to values.\n",
        "    A Pandas Series for element-wise substitution.\n",
        "    \n",
        "    Output: Returns a new Series with the applied operation.\n",
        "    Use Case: Best for element-wise transformations or mappings.\n",
        "    \n",
        "    Example:\n",
        "\n"
      ],
      "metadata": {
        "id": "ZYHWobWP0d6Q"
      }
    },
    {
      "cell_type": "code",
      "source": [
        "import pandas as pd\n",
        "\n",
        "# Example Series\n",
        "s = pd.Series([1, 2, 3, 4])\n",
        "\n",
        "# Using a function\n",
        "s.map(lambda x: x * 2)  # Output: [2, 4, 6, 8]\n",
        "\n",
        "# Using a dictionary\n",
        "s.map({1: 'A', 2: 'B'})  # Output: ['A', 'B', NaN, NaN]\n",
        "\n",
        "# Using another Series\n",
        "replacement = pd.Series(['X', 'Y'], index=[1, 2])\n",
        "s.map(replacement)  # Output: ['X', 'Y', NaN, NaN]\n"
      ],
      "metadata": {
        "colab": {
          "base_uri": "https://localhost:8080/",
          "height": 210
        },
        "id": "WlM5rvZm1i_6",
        "outputId": "a7041949-4807-432c-b601-e7ab8dc9e060"
      },
      "execution_count": null,
      "outputs": [
        {
          "output_type": "execute_result",
          "data": {
            "text/plain": [
              "0      X\n",
              "1      Y\n",
              "2    NaN\n",
              "3    NaN\n",
              "dtype: object"
            ],
            "text/html": [
              "<div>\n",
              "<style scoped>\n",
              "    .dataframe tbody tr th:only-of-type {\n",
              "        vertical-align: middle;\n",
              "    }\n",
              "\n",
              "    .dataframe tbody tr th {\n",
              "        vertical-align: top;\n",
              "    }\n",
              "\n",
              "    .dataframe thead th {\n",
              "        text-align: right;\n",
              "    }\n",
              "</style>\n",
              "<table border=\"1\" class=\"dataframe\">\n",
              "  <thead>\n",
              "    <tr style=\"text-align: right;\">\n",
              "      <th></th>\n",
              "      <th>0</th>\n",
              "    </tr>\n",
              "  </thead>\n",
              "  <tbody>\n",
              "    <tr>\n",
              "      <th>0</th>\n",
              "      <td>X</td>\n",
              "    </tr>\n",
              "    <tr>\n",
              "      <th>1</th>\n",
              "      <td>Y</td>\n",
              "    </tr>\n",
              "    <tr>\n",
              "      <th>2</th>\n",
              "      <td>NaN</td>\n",
              "    </tr>\n",
              "    <tr>\n",
              "      <th>3</th>\n",
              "      <td>NaN</td>\n",
              "    </tr>\n",
              "  </tbody>\n",
              "</table>\n",
              "</div><br><label><b>dtype:</b> object</label>"
            ]
          },
          "metadata": {},
          "execution_count": 12
        }
      ]
    },
    {
      "cell_type": "markdown",
      "source": [
        "    apply()\n",
        "    Purpose: The apply() function works with both Series and DataFrame objects. It is more flexible than map(), as it can apply functions along an axis (rows or columns) for DataFrames or element-wise for Series.\n",
        "    \n",
        "    Input:\n",
        "    For Series: A function.\n",
        "    For DataFrame: A function and optionally an axis (0 for columns, 1 for rows).\n",
        "    \n",
        "    Output:\n",
        "    For Series: Returns a new Series.\n",
        "    For DataFrame: Returns a Series or DataFrame, depending on the function applied.\n",
        "    Use Case: Best for complex transformations that require more flexibility.\n",
        "    \n",
        "    Example (on a Series):"
      ],
      "metadata": {
        "id": "4MTii0P-1ucS"
      }
    },
    {
      "cell_type": "code",
      "source": [
        "# Example Series\n",
        "s = pd.Series([1, 2, 3, 4])\n",
        "\n",
        "# Applying a function\n",
        "s.apply(lambda x: x ** 2)\n"
      ],
      "metadata": {
        "colab": {
          "base_uri": "https://localhost:8080/",
          "height": 210
        },
        "id": "rZYtmdVK2CSZ",
        "outputId": "d46d09ae-d776-4ae7-de1e-4a637dc63f2a"
      },
      "execution_count": null,
      "outputs": [
        {
          "output_type": "execute_result",
          "data": {
            "text/plain": [
              "0     1\n",
              "1     4\n",
              "2     9\n",
              "3    16\n",
              "dtype: int64"
            ],
            "text/html": [
              "<div>\n",
              "<style scoped>\n",
              "    .dataframe tbody tr th:only-of-type {\n",
              "        vertical-align: middle;\n",
              "    }\n",
              "\n",
              "    .dataframe tbody tr th {\n",
              "        vertical-align: top;\n",
              "    }\n",
              "\n",
              "    .dataframe thead th {\n",
              "        text-align: right;\n",
              "    }\n",
              "</style>\n",
              "<table border=\"1\" class=\"dataframe\">\n",
              "  <thead>\n",
              "    <tr style=\"text-align: right;\">\n",
              "      <th></th>\n",
              "      <th>0</th>\n",
              "    </tr>\n",
              "  </thead>\n",
              "  <tbody>\n",
              "    <tr>\n",
              "      <th>0</th>\n",
              "      <td>1</td>\n",
              "    </tr>\n",
              "    <tr>\n",
              "      <th>1</th>\n",
              "      <td>4</td>\n",
              "    </tr>\n",
              "    <tr>\n",
              "      <th>2</th>\n",
              "      <td>9</td>\n",
              "    </tr>\n",
              "    <tr>\n",
              "      <th>3</th>\n",
              "      <td>16</td>\n",
              "    </tr>\n",
              "  </tbody>\n",
              "</table>\n",
              "</div><br><label><b>dtype:</b> int64</label>"
            ]
          },
          "metadata": {},
          "execution_count": 13
        }
      ]
    },
    {
      "cell_type": "markdown",
      "source": [
        "    Example (on a DataFrame):"
      ],
      "metadata": {
        "id": "mggKJfIO2ZQg"
      }
    },
    {
      "cell_type": "code",
      "source": [
        "df = pd.DataFrame({'A': [1, 2], 'B': [3, 4]})\n",
        "\n",
        "# Applying a function along rows (axis=1)\n",
        "df.apply(lambda row: row.sum(), axis=1)  # Output: [4, 6]\n",
        "\n",
        "# Applying a function along columns (axis=0)\n",
        "df.apply(lambda col: col.mean(), axis=0)  # Output: [1.5, 3.5]\n"
      ],
      "metadata": {
        "colab": {
          "base_uri": "https://localhost:8080/",
          "height": 147
        },
        "id": "O6wNmbkL2eYA",
        "outputId": "f11384ab-7cf4-4c53-ecd3-c186f54a918d"
      },
      "execution_count": null,
      "outputs": [
        {
          "output_type": "execute_result",
          "data": {
            "text/plain": [
              "A    1.5\n",
              "B    3.5\n",
              "dtype: float64"
            ],
            "text/html": [
              "<div>\n",
              "<style scoped>\n",
              "    .dataframe tbody tr th:only-of-type {\n",
              "        vertical-align: middle;\n",
              "    }\n",
              "\n",
              "    .dataframe tbody tr th {\n",
              "        vertical-align: top;\n",
              "    }\n",
              "\n",
              "    .dataframe thead th {\n",
              "        text-align: right;\n",
              "    }\n",
              "</style>\n",
              "<table border=\"1\" class=\"dataframe\">\n",
              "  <thead>\n",
              "    <tr style=\"text-align: right;\">\n",
              "      <th></th>\n",
              "      <th>0</th>\n",
              "    </tr>\n",
              "  </thead>\n",
              "  <tbody>\n",
              "    <tr>\n",
              "      <th>A</th>\n",
              "      <td>1.5</td>\n",
              "    </tr>\n",
              "    <tr>\n",
              "      <th>B</th>\n",
              "      <td>3.5</td>\n",
              "    </tr>\n",
              "  </tbody>\n",
              "</table>\n",
              "</div><br><label><b>dtype:</b> float64</label>"
            ]
          },
          "metadata": {},
          "execution_count": 14
        }
      ]
    },
    {
      "cell_type": "markdown",
      "source": [
        "    18.What are some advanced features of NumPy?\n",
        "    NumPy is a powerful library in Python for numerical computation, and beyond its basic features (such as arrays and basic mathematical operations), it includes many advanced features that cater to more complex needs. Here are some advanced features of NumPy:\n",
        "\n",
        "    1.Broadcasting\n",
        "    Broadcasting allows operations on arrays of different shapes and sizes without explicitly reshaping them.\n",
        "    \n",
        "    Example:\n",
        "\n"
      ],
      "metadata": {
        "id": "YAjO-rsU24h2"
      }
    },
    {
      "cell_type": "code",
      "source": [
        "import numpy as np\n",
        "a = np.array([1, 2, 3])\n",
        "b = 2\n",
        "print(a * b)\n"
      ],
      "metadata": {
        "colab": {
          "base_uri": "https://localhost:8080/"
        },
        "id": "1vvU-yXs3f88",
        "outputId": "140dc17e-2a0e-4575-96d0-eebbe8c7a0f0"
      },
      "execution_count": null,
      "outputs": [
        {
          "output_type": "stream",
          "name": "stdout",
          "text": [
            "[2 4 6]\n"
          ]
        }
      ]
    },
    {
      "cell_type": "markdown",
      "source": [
        "    2.Vectorization\n",
        "    Enables the application of functions element-wise to arrays without using loops, leading to faster execution.\n",
        "    \n",
        "    Example:\n",
        "\n"
      ],
      "metadata": {
        "id": "K2CT25gF3lgE"
      }
    },
    {
      "cell_type": "code",
      "source": [
        "a = np.array([1, 2, 3])\n",
        "print(np.sqrt(a))\n"
      ],
      "metadata": {
        "colab": {
          "base_uri": "https://localhost:8080/"
        },
        "id": "lRs4wCuY3rIM",
        "outputId": "fc35d8f6-7ae1-4967-d75a-955c832cf482"
      },
      "execution_count": null,
      "outputs": [
        {
          "output_type": "stream",
          "name": "stdout",
          "text": [
            "[1.         1.41421356 1.73205081]\n"
          ]
        }
      ]
    },
    {
      "cell_type": "markdown",
      "source": [
        "    3.Fancy Indexing\n",
        "    Use integer or boolean arrays to access specific elements of an array.\n",
        "    \n",
        "    Example:\n",
        "\n"
      ],
      "metadata": {
        "id": "ezd9ePMO3yyV"
      }
    },
    {
      "cell_type": "code",
      "source": [
        "a = np.array([10, 20, 30, 40, 50])\n",
        "indices = [0, 2, 4]\n",
        "print(a[indices])\n"
      ],
      "metadata": {
        "colab": {
          "base_uri": "https://localhost:8080/"
        },
        "id": "9SepjMZh37sk",
        "outputId": "193f6fe0-7648-4aa5-90dc-dfd1f65f8547"
      },
      "execution_count": null,
      "outputs": [
        {
          "output_type": "stream",
          "name": "stdout",
          "text": [
            "[10 30 50]\n"
          ]
        }
      ]
    },
    {
      "cell_type": "markdown",
      "source": [
        "    4.Structured Arrays\n",
        "    Support for heterogeneous data by defining custom data types.\n",
        "    \n",
        "    Example:\n",
        "\n"
      ],
      "metadata": {
        "id": "wxHVxtoq4C3r"
      }
    },
    {
      "cell_type": "code",
      "source": [
        "data = np.array([(1, 'Alice', 4.5), (2, 'Bob', 3.7)],\n",
        "                dtype=[('id', 'i4'), ('name', 'U10'), ('score', 'f4')])\n",
        "print(data['name'])\n"
      ],
      "metadata": {
        "colab": {
          "base_uri": "https://localhost:8080/"
        },
        "id": "eXEW_De74OMq",
        "outputId": "4e4e033e-1bff-4d65-888f-86bc49d5b480"
      },
      "execution_count": null,
      "outputs": [
        {
          "output_type": "stream",
          "name": "stdout",
          "text": [
            "['Alice' 'Bob']\n"
          ]
        }
      ]
    },
    {
      "cell_type": "markdown",
      "source": [
        "    5.Linear Algebra\n",
        "    Functions for matrix operations, solving linear equations, eigenvalues, and singular value decomposition (SVD).\n",
        "    \n",
        "    Example:\n",
        "\n"
      ],
      "metadata": {
        "id": "mT-8nBMK4Usr"
      }
    },
    {
      "cell_type": "code",
      "source": [
        "from numpy.linalg import inv, eig\n",
        "A = np.array([[1, 2], [3, 4]])\n",
        "print(inv(A))\n",
        "print(eig(A))\n"
      ],
      "metadata": {
        "colab": {
          "base_uri": "https://localhost:8080/"
        },
        "id": "th8o_6tH4clJ",
        "outputId": "1f3ad8d3-2803-476d-eaaa-fcf562a73e70"
      },
      "execution_count": null,
      "outputs": [
        {
          "output_type": "stream",
          "name": "stdout",
          "text": [
            "[[-2.   1. ]\n",
            " [ 1.5 -0.5]]\n",
            "EigResult(eigenvalues=array([-0.37228132,  5.37228132]), eigenvectors=array([[-0.82456484, -0.41597356],\n",
            "       [ 0.56576746, -0.90937671]]))\n"
          ]
        }
      ]
    },
    {
      "cell_type": "markdown",
      "source": [
        "    6.FFT (Fast Fourier Transform)\n",
        "    Tools for computing the discrete Fourier transform and its inverse.\n",
        "    \n",
        "    Example"
      ],
      "metadata": {
        "id": "SSM3fnqD4nM4"
      }
    },
    {
      "cell_type": "code",
      "source": [
        "from numpy.fft import fft\n",
        "x = np.array([1, 2, 3, 4])\n",
        "print(fft(x))\n"
      ],
      "metadata": {
        "colab": {
          "base_uri": "https://localhost:8080/"
        },
        "id": "QBjG80q94sdY",
        "outputId": "849423a4-c7b1-41ed-ca4c-c1d69aa8e224"
      },
      "execution_count": null,
      "outputs": [
        {
          "output_type": "stream",
          "name": "stdout",
          "text": [
            "[10.+0.j -2.+2.j -2.+0.j -2.-2.j]\n"
          ]
        }
      ]
    },
    {
      "cell_type": "markdown",
      "source": [
        "    7.Random Sampling\n",
        "    numpy.random module generates random numbers and performs random sampling.\n",
        "    \n",
        "    Example"
      ],
      "metadata": {
        "id": "xKoZXavx4zd7"
      }
    },
    {
      "cell_type": "code",
      "source": [
        "from numpy.random import random, normal\n",
        "print(random((2, 3)))\n",
        "print(normal(0, 1, 5))\n"
      ],
      "metadata": {
        "colab": {
          "base_uri": "https://localhost:8080/"
        },
        "id": "cGswuv6l45ri",
        "outputId": "46535dec-985f-4966-e187-a7bc0b55555e"
      },
      "execution_count": null,
      "outputs": [
        {
          "output_type": "stream",
          "name": "stdout",
          "text": [
            "[[0.15080856 0.13898418 0.2327946 ]\n",
            " [0.51489592 0.09986037 0.4905071 ]]\n",
            "[1.65830469e+00 7.27778208e-01 7.55983854e-01 1.05469643e-03\n",
            " 6.74614603e-01]\n"
          ]
        }
      ]
    },
    {
      "cell_type": "markdown",
      "source": [
        "    8.Masked Arrays\n",
        "    Handle missing or invalid data using masked arrays.\n",
        "    \n",
        "    Example:\n",
        "\n"
      ],
      "metadata": {
        "id": "jCTNaFNa5AR4"
      }
    },
    {
      "cell_type": "code",
      "source": [
        "from numpy.ma import masked_array\n",
        "data = np.array([1, 2, -1, 4])\n",
        "masked = masked_array(data, mask=[0, 0, 1, 0])\n",
        "print(masked.mean())\n"
      ],
      "metadata": {
        "colab": {
          "base_uri": "https://localhost:8080/"
        },
        "id": "LzdEXbPT5GEH",
        "outputId": "ec662ffd-71c6-47db-923a-a037a2d913fd"
      },
      "execution_count": null,
      "outputs": [
        {
          "output_type": "stream",
          "name": "stdout",
          "text": [
            "2.3333333333333335\n"
          ]
        }
      ]
    },
    {
      "cell_type": "markdown",
      "source": [
        "    9.Memory Mapping\n",
        "    Load and manipulate large files efficiently without reading them fully into memory using numpy.memmap.\n",
        "    \n",
        "    Example:\n",
        "\n"
      ],
      "metadata": {
        "id": "AQ9ooGnd5N-n"
      }
    },
    {
      "source": [
        "import numpy as np\n",
        "\n",
        "# Create the file if it doesn't exist with the specified shape and dtype\n",
        "# 'w+' mode creates a new file or overwrites an existing one\n",
        "fp = np.memmap('large_file.dat', dtype='float32', mode='w+', shape=(1000, 1000))\n",
        "\n",
        "# Now you can access and modify the memmap array\n",
        "fp[0, 0] = 42"
      ],
      "cell_type": "code",
      "metadata": {
        "id": "zOjeYhJm5qT3"
      },
      "execution_count": null,
      "outputs": []
    },
    {
      "cell_type": "markdown",
      "source": [
        "    10.Performance with np.vectorize and numba Integration\n",
        "    Use np.vectorize for applying functions element-wise (though it is slower than native NumPy operations).\n",
        "    Use numba to accelerate custom functions.\n",
        "    \n",
        "    Example:\n",
        "\n"
      ],
      "metadata": {
        "id": "ac_fCRP55yR4"
      }
    },
    {
      "cell_type": "code",
      "source": [
        "import numba\n",
        "@numba.jit\n",
        "def custom_function(x):\n",
        "    return x ** 2 - x\n",
        "a = np.arange(1000000)\n",
        "print(custom_function(a))\n"
      ],
      "metadata": {
        "colab": {
          "base_uri": "https://localhost:8080/"
        },
        "id": "dc1_1yA_579m",
        "outputId": "f562684a-807f-4f90-cb58-b6bc845f3001"
      },
      "execution_count": null,
      "outputs": [
        {
          "output_type": "stream",
          "name": "stdout",
          "text": [
            "[           0            0            2 ... 999993000012 999995000006\n",
            " 999997000002]\n"
          ]
        }
      ]
    },
    {
      "cell_type": "markdown",
      "source": [
        "    11.Multi-dimensional Sorting and Searching\n",
        "    Sorting arrays along specific axes and searching for elements with advanced methods.\n",
        "    \n",
        "    Example"
      ],
      "metadata": {
        "id": "s_sx7ZKA6Fsd"
      }
    },
    {
      "cell_type": "code",
      "source": [
        "a = np.array([[3, 1, 2], [6, 5, 4]])\n",
        "print(np.sort(a, axis=1))\n",
        "print(np.argsort(a, axis=0))\n"
      ],
      "metadata": {
        "colab": {
          "base_uri": "https://localhost:8080/"
        },
        "id": "Q1GdOuJt6LyE",
        "outputId": "b6c22254-fbc7-43d6-86e7-a2577f64c745"
      },
      "execution_count": null,
      "outputs": [
        {
          "output_type": "stream",
          "name": "stdout",
          "text": [
            "[[1 2 3]\n",
            " [4 5 6]]\n",
            "[[0 0 0]\n",
            " [1 1 1]]\n"
          ]
        }
      ]
    },
    {
      "cell_type": "markdown",
      "source": [
        "    12.Memory Efficiency\n",
        "    Use numpy.ndarray's dtype to control memory usage, e.g., using float32 instead of float64.\n"
      ],
      "metadata": {
        "id": "N3V4q6kh6T-l"
      }
    },
    {
      "cell_type": "markdown",
      "source": [
        "    13.Custom Universal Functions (ufuncs)\n",
        "    Define custom element-wise functions.\n",
        "    \n",
        "    Example:\n",
        "\n"
      ],
      "metadata": {
        "id": "6r1BooPh6aUM"
      }
    },
    {
      "cell_type": "code",
      "source": [
        "def custom_add(x, y):\n",
        "    return x + y\n",
        "custom_ufunc = np.frompyfunc(custom_add, 2, 1)\n",
        "print(custom_ufunc([1, 2, 3], [4, 5, 6]))\n"
      ],
      "metadata": {
        "colab": {
          "base_uri": "https://localhost:8080/"
        },
        "id": "GMCsD3Dv6ky8",
        "outputId": "7968f310-5378-4517-d802-958888572019"
      },
      "execution_count": null,
      "outputs": [
        {
          "output_type": "stream",
          "name": "stdout",
          "text": [
            "[5 7 9]\n"
          ]
        }
      ]
    },
    {
      "cell_type": "markdown",
      "source": [
        "    19.A How does Pandas simplify time series analysis?\n",
        "    Pandas simplifies time series analysis by offering robust and intuitive tools for managing, analyzing, and visualizing time-indexed data. Here's how it helps:\n",
        "\n",
        "    1.Time Indexing and Resampling\n",
        "    Datetime Indexing: Pandas provides a DatetimeIndex to handle time-based data efficiently. You can set a DatetimeIndex as the index of a DataFrame, allowing seamless time-based slicing and subsetting.\n",
        "    Resampling: You can aggregate or downsample data (e.g., daily to monthly) or upsample (e.g., hourly to minute-level data) using the .resample() method.\n",
        "\n"
      ],
      "metadata": {
        "id": "8l-lQ8zN6qpl"
      }
    },
    {
      "source": [
        "import pandas as pd\n",
        "\n",
        "# Sample DataFrame with a 'Date' column\n",
        "data = {'Date': ['2023-01-01', '2023-01-02', '2023-01-03'],\n",
        "        'Value': [10, 20, 30]}\n",
        "df = pd.DataFrame(data)\n",
        "\n",
        "# 1. Convert the 'Date' column to datetime objects:\n",
        "df['Date'] = pd.to_datetime(df['Date'])\n",
        "\n",
        "# 2. Set the 'Date' column as the index:\n",
        "df = df.set_index('Date')\n",
        "\n",
        "# Now you can use resample():\n",
        "df.resample('M').mean()  # Resamples data to monthly and calculates the mean"
      ],
      "cell_type": "code",
      "metadata": {
        "colab": {
          "base_uri": "https://localhost:8080/",
          "height": 147
        },
        "id": "ZV1wf3mr7o8S",
        "outputId": "d0dcb786-befc-4c6f-e45b-1fc60c8ac9d1"
      },
      "execution_count": null,
      "outputs": [
        {
          "output_type": "stream",
          "name": "stderr",
          "text": [
            "<ipython-input-38-b2bfa55b9c5e>:15: FutureWarning: 'M' is deprecated and will be removed in a future version, please use 'ME' instead.\n",
            "  df.resample('M').mean()  # Resamples data to monthly and calculates the mean\n"
          ]
        },
        {
          "output_type": "execute_result",
          "data": {
            "text/plain": [
              "            Value\n",
              "Date             \n",
              "2023-01-31   20.0"
            ],
            "text/html": [
              "\n",
              "  <div id=\"df-c4157af1-9da7-4720-9a88-8bb685da3f96\" class=\"colab-df-container\">\n",
              "    <div>\n",
              "<style scoped>\n",
              "    .dataframe tbody tr th:only-of-type {\n",
              "        vertical-align: middle;\n",
              "    }\n",
              "\n",
              "    .dataframe tbody tr th {\n",
              "        vertical-align: top;\n",
              "    }\n",
              "\n",
              "    .dataframe thead th {\n",
              "        text-align: right;\n",
              "    }\n",
              "</style>\n",
              "<table border=\"1\" class=\"dataframe\">\n",
              "  <thead>\n",
              "    <tr style=\"text-align: right;\">\n",
              "      <th></th>\n",
              "      <th>Value</th>\n",
              "    </tr>\n",
              "    <tr>\n",
              "      <th>Date</th>\n",
              "      <th></th>\n",
              "    </tr>\n",
              "  </thead>\n",
              "  <tbody>\n",
              "    <tr>\n",
              "      <th>2023-01-31</th>\n",
              "      <td>20.0</td>\n",
              "    </tr>\n",
              "  </tbody>\n",
              "</table>\n",
              "</div>\n",
              "    <div class=\"colab-df-buttons\">\n",
              "\n",
              "  <div class=\"colab-df-container\">\n",
              "    <button class=\"colab-df-convert\" onclick=\"convertToInteractive('df-c4157af1-9da7-4720-9a88-8bb685da3f96')\"\n",
              "            title=\"Convert this dataframe to an interactive table.\"\n",
              "            style=\"display:none;\">\n",
              "\n",
              "  <svg xmlns=\"http://www.w3.org/2000/svg\" height=\"24px\" viewBox=\"0 -960 960 960\">\n",
              "    <path d=\"M120-120v-720h720v720H120Zm60-500h600v-160H180v160Zm220 220h160v-160H400v160Zm0 220h160v-160H400v160ZM180-400h160v-160H180v160Zm440 0h160v-160H620v160ZM180-180h160v-160H180v160Zm440 0h160v-160H620v160Z\"/>\n",
              "  </svg>\n",
              "    </button>\n",
              "\n",
              "  <style>\n",
              "    .colab-df-container {\n",
              "      display:flex;\n",
              "      gap: 12px;\n",
              "    }\n",
              "\n",
              "    .colab-df-convert {\n",
              "      background-color: #E8F0FE;\n",
              "      border: none;\n",
              "      border-radius: 50%;\n",
              "      cursor: pointer;\n",
              "      display: none;\n",
              "      fill: #1967D2;\n",
              "      height: 32px;\n",
              "      padding: 0 0 0 0;\n",
              "      width: 32px;\n",
              "    }\n",
              "\n",
              "    .colab-df-convert:hover {\n",
              "      background-color: #E2EBFA;\n",
              "      box-shadow: 0px 1px 2px rgba(60, 64, 67, 0.3), 0px 1px 3px 1px rgba(60, 64, 67, 0.15);\n",
              "      fill: #174EA6;\n",
              "    }\n",
              "\n",
              "    .colab-df-buttons div {\n",
              "      margin-bottom: 4px;\n",
              "    }\n",
              "\n",
              "    [theme=dark] .colab-df-convert {\n",
              "      background-color: #3B4455;\n",
              "      fill: #D2E3FC;\n",
              "    }\n",
              "\n",
              "    [theme=dark] .colab-df-convert:hover {\n",
              "      background-color: #434B5C;\n",
              "      box-shadow: 0px 1px 3px 1px rgba(0, 0, 0, 0.15);\n",
              "      filter: drop-shadow(0px 1px 2px rgba(0, 0, 0, 0.3));\n",
              "      fill: #FFFFFF;\n",
              "    }\n",
              "  </style>\n",
              "\n",
              "    <script>\n",
              "      const buttonEl =\n",
              "        document.querySelector('#df-c4157af1-9da7-4720-9a88-8bb685da3f96 button.colab-df-convert');\n",
              "      buttonEl.style.display =\n",
              "        google.colab.kernel.accessAllowed ? 'block' : 'none';\n",
              "\n",
              "      async function convertToInteractive(key) {\n",
              "        const element = document.querySelector('#df-c4157af1-9da7-4720-9a88-8bb685da3f96');\n",
              "        const dataTable =\n",
              "          await google.colab.kernel.invokeFunction('convertToInteractive',\n",
              "                                                    [key], {});\n",
              "        if (!dataTable) return;\n",
              "\n",
              "        const docLinkHtml = 'Like what you see? Visit the ' +\n",
              "          '<a target=\"_blank\" href=https://colab.research.google.com/notebooks/data_table.ipynb>data table notebook</a>'\n",
              "          + ' to learn more about interactive tables.';\n",
              "        element.innerHTML = '';\n",
              "        dataTable['output_type'] = 'display_data';\n",
              "        await google.colab.output.renderOutput(dataTable, element);\n",
              "        const docLink = document.createElement('div');\n",
              "        docLink.innerHTML = docLinkHtml;\n",
              "        element.appendChild(docLink);\n",
              "      }\n",
              "    </script>\n",
              "  </div>\n",
              "\n",
              "\n",
              "    </div>\n",
              "  </div>\n"
            ],
            "application/vnd.google.colaboratory.intrinsic+json": {
              "type": "dataframe",
              "summary": "{\n  \"name\": \"df\",\n  \"rows\": 1,\n  \"fields\": [\n    {\n      \"column\": \"Date\",\n      \"properties\": {\n        \"dtype\": \"date\",\n        \"min\": \"2023-01-31 00:00:00\",\n        \"max\": \"2023-01-31 00:00:00\",\n        \"num_unique_values\": 1,\n        \"samples\": [\n          \"2023-01-31 00:00:00\"\n        ],\n        \"semantic_type\": \"\",\n        \"description\": \"\"\n      }\n    },\n    {\n      \"column\": \"Value\",\n      \"properties\": {\n        \"dtype\": \"number\",\n        \"std\": null,\n        \"min\": 20.0,\n        \"max\": 20.0,\n        \"num_unique_values\": 1,\n        \"samples\": [\n          20.0\n        ],\n        \"semantic_type\": \"\",\n        \"description\": \"\"\n      }\n    }\n  ]\n}"
            }
          },
          "metadata": {},
          "execution_count": 38
        }
      ]
    },
    {
      "cell_type": "markdown",
      "source": [
        "    2.Date Parsing and Formatting\n",
        "    Built-in support for parsing a wide variety of date formats via pd.to_datetime().\n",
        "    It supports custom formatting for dates and times to align with specific analysis needs.\n",
        "    \n",
        "    3.Time Series-Specific Operations\n",
        "    Shifting and Lagging: Use .shift() to create lag features or shift data forward/backward in time.\n",
        "    Rolling Windows: Apply moving averages or other rolling window functions with .rolling().\n",
        "\n"
      ],
      "metadata": {
        "id": "Wfb_1fZI72PB"
      }
    },
    {
      "source": [
        "df['rolling_avg'] = df['Value'].rolling(window=3).mean()"
      ],
      "cell_type": "code",
      "metadata": {
        "id": "au4giLd48KgB"
      },
      "execution_count": null,
      "outputs": []
    },
    {
      "cell_type": "markdown",
      "source": [
        "    4.Handling Missing Data\n",
        "    Time series data often has gaps. Pandas makes it easy to fill missing data with .fillna(), .interpolate(), or forward/backward filling using .ffill() or .bfill().\n",
        "    \n",
        "    5.Date Arithmetic and Frequency\n",
        "    Pandas supports date arithmetic, allowing you to easily calculate time differences or add/subtract time periods.\n",
        "    Frequency aliases (e.g., 'D' for daily, 'H' for hourly) make it straightforward to generate date ranges and manipulate time-based data.\n",
        "    \n",
        "    6.Time Zone Awareness\n",
        "    Built-in support for time zone handling, including conversion between time zones with .tz_localize() and .tz_convert().\n",
        "    \n",
        "    7.Integration with Plotting\n",
        "    Time series can be visualized easily using built-in support for plotting with time on the x-axis.\n",
        "\n"
      ],
      "metadata": {
        "id": "HyoBIj5P8Z4E"
      }
    },
    {
      "source": [
        "df = df.reset_index()\n",
        "df.plot(x='Date', y='Value')"
      ],
      "cell_type": "code",
      "metadata": {
        "colab": {
          "base_uri": "https://localhost:8080/",
          "height": 499
        },
        "id": "L0CMkL949Tj1",
        "outputId": "b5ebac21-ee06-4c37-9d79-c9bf0510a636"
      },
      "execution_count": null,
      "outputs": [
        {
          "output_type": "execute_result",
          "data": {
            "text/plain": [
              "<Axes: xlabel='Date'>"
            ]
          },
          "metadata": {},
          "execution_count": 44
        },
        {
          "output_type": "display_data",
          "data": {
            "text/plain": [
              "<Figure size 640x480 with 1 Axes>"
            ],
            "image/png": "[encoded data removed]"
          },
          "metadata": {}
        }
      ]
    },
    {
      "cell_type": "markdown",
      "source": [
        "    8.Seasonality and Trends\n",
        "    Decomposing time series data into trend, seasonality, and residuals using third-party libraries (like statsmodels) is made easier with Pandas' ability to handle the necessary preprocessing.\n",
        "    \n",
        "    9.Advanced Grouping and Aggregations\n",
        "    Group data by specific time periods (e.g., grouping by year or month) using .groupby() and .resample()."
      ],
      "metadata": {
        "id": "yxsntZA99lmr"
      }
    },
    {
      "cell_type": "markdown",
      "source": [
        "    20.What is the role of a pivot table in Pandas?\n",
        "    A pivot table in Pandas is a powerful tool used to summarize, analyze, and organize data in a tabular format. It allows you to aggregate and restructure data in a way that makes it easier to extract insights. The functionality is similar to pivot tables in spreadsheet software like Microsoft Excel.\n",
        "\n",
        "    Key Roles of a Pivot Table in Pandas:\n",
        "    \n",
        "    1.Data Aggregation:\n",
        "\n",
        "    Summarizes data by applying aggregation functions such as sum, mean, count, min, max, etc., to groups of data.\n",
        "    \n",
        "    2.Reshaping Data:\n",
        "\n",
        "    Rearranges or restructures data by pivoting rows into columns or vice versa, making the data easier to analyze.\n",
        "    \n",
        "    3.Multi-Dimensional Analysis:\n",
        "\n",
        "    Enables analysis across multiple dimensions by allowing multiple index levels (rows and columns) and values to aggregate.\n",
        "    \n",
        "    4.Customization:\n",
        "\n",
        "    Provides flexibility to define custom grouping, aggregation functions, and display options to suit specific analytical needs."
      ],
      "metadata": {
        "id": "7_iUmfLn-STY"
      }
    },
    {
      "cell_type": "markdown",
      "source": [
        "    Common Parameters of pandas.pivot_table:\n",
        "\n",
        "    data: The DataFrame containing the data.\n",
        "    \n",
        "    values: The column(s) to aggregate.\n",
        "    \n",
        "    index: The column(s) to group by along rows.\n",
        "    \n",
        "    columns: The column(s) to group by along columns.\n",
        "    \n",
        "    aggfunc: The aggregation function (default is mean).\n",
        "    \n",
        "    fill_value: Replaces missing values with a specified value.\n",
        "    \n",
        "    margins: Adds subtotals for rows and columns.\n",
        "   \n",
        "    Example:"
      ],
      "metadata": {
        "id": "RrGIjMqlA90P"
      }
    },
    {
      "cell_type": "code",
      "source": [
        "import pandas as pd\n",
        "\n",
        "# Sample DataFrame\n",
        "data = {\n",
        "    \"Category\": [\"A\", \"A\", \"B\", \"B\", \"C\"],\n",
        "    \"Subcategory\": [\"X\", \"Y\", \"X\", \"Y\", \"X\"],\n",
        "    \"Values\": [10, 15, 10, 20, 30]\n",
        "}\n",
        "df = pd.DataFrame(data)\n",
        "\n",
        "# Create a pivot table\n",
        "pivot_table = pd.pivot_table(\n",
        "    df,\n",
        "    values=\"Values\",\n",
        "    index=\"Category\",\n",
        "    columns=\"Subcategory\",\n",
        "    aggfunc=\"sum\",\n",
        "    fill_value=0\n",
        ")\n",
        "\n",
        "print(pivot_table)\n"
      ],
      "metadata": {
        "colab": {
          "base_uri": "https://localhost:8080/"
        },
        "id": "CF-ydAhWBmXE",
        "outputId": "cf23b874-c040-4fc3-96ed-0aae4961c266"
      },
      "execution_count": null,
      "outputs": [
        {
          "output_type": "stream",
          "name": "stdout",
          "text": [
            "Subcategory   X   Y\n",
            "Category           \n",
            "A            10  15\n",
            "B            10  20\n",
            "C            30   0\n"
          ]
        }
      ]
    },
    {
      "cell_type": "markdown",
      "source": [
        "    This output shows the total values for each category and subcategory, demonstrating the power of pivot tables for summarizing data.\n",
        "\n",
        "\n",
        "\n",
        "\n",
        "\n",
        "\n"
      ],
      "metadata": {
        "id": "VM6GaNJKBrDK"
      }
    },
    {
      "cell_type": "markdown",
      "source": [
        "    21.Why is NumPy’s array slicing faster than Python’s list slicing?\n",
        "    NumPy's array slicing is faster than Python's list slicing because of the fundamental differences in their underlying design and implementation. Here's why:\n",
        "\n",
        "    1.Homogeneous Data Types in NumPy Arrays\n",
        "    NumPy arrays are designed to store elements of a single data type, which allows them to be stored in contiguous blocks of memory. This ensures efficient access and manipulation of data.\n",
        "    Python lists, on the other hand, are heterogeneous. Each element in a list is a reference to an object stored elsewhere in memory, leading to additional overhead when accessing or slicing.\n",
        "    \n",
        "    2.Optimized C Backend\n",
        "    NumPy is implemented in C and makes use of optimized algorithms for slicing and other operations. This avoids the overhead of Python's dynamic typing and general-purpose design.\n",
        "    Python lists are implemented in Python itself, with the slicing operation involving creating a new list and copying references, which is less efficient.\n",
        "    \n",
        "    3.No Data Copying for Slices\n",
        "    In NumPy, slicing creates a view of the original data (when possible), meaning no new memory is allocated, and the operation is almost instantaneous. The view references the same memory as the original array.\n",
        "    In Python lists, slicing creates a new list with copied references to the original elements. This involves iterating over the specified range, allocating memory for the new list, and copying references or values.\n",
        "    \n",
        "    4.Vectorized Operations\n",
        "    NumPy is built for numerical computations and leverages SIMD (Single Instruction, Multiple Data) techniques. Even slicing operations can benefit from these optimizations when working with large arrays.\n",
        "    Python lists are general-purpose containers and are not optimized for numerical operations.\n",
        "    \n",
        "    5.Fixed Size vs. Variable Size\n",
        "    NumPy arrays have a fixed size, and their memory layout is predictable, making slicing and indexing faster.\n",
        "    Python lists can grow or shrink dynamically, leading to a less efficient memory layout for operations like slicing.\n",
        "    \n",
        "    Example to Illustrate Speed Difference:\n",
        "\n"
      ],
      "metadata": {
        "id": "wO0N_7yeB5ni"
      }
    },
    {
      "cell_type": "code",
      "source": [
        "import numpy as np\n",
        "import time\n",
        "\n",
        "# NumPy array slicing\n",
        "arr = np.arange(1000000)\n",
        "start = time.time()\n",
        "sliced_arr = arr[100:200000]\n",
        "end = time.time()\n",
        "print(\"NumPy slicing time:\", end - start)\n",
        "\n",
        "# Python list slicing\n",
        "lst = list(range(1000000))\n",
        "start = time.time()\n",
        "sliced_lst = lst[100:200000]\n",
        "end = time.time()\n",
        "print(\"List slicing time:\", end - start)\n"
      ],
      "metadata": {
        "colab": {
          "base_uri": "https://localhost:8080/"
        },
        "id": "wWcNvYTZCpaX",
        "outputId": "151334c4-372e-4ef0-ff1e-786670f60095"
      },
      "execution_count": null,
      "outputs": [
        {
          "output_type": "stream",
          "name": "stdout",
          "text": [
            "NumPy slicing time: 0.0001232624053955078\n",
            "List slicing time: 0.0021703243255615234\n"
          ]
        }
      ]
    },
    {
      "cell_type": "markdown",
      "source": [
        "    22.What are some common use cases for Seaborn?\n",
        "    Seaborn is a popular Python data visualization library built on top of Matplotlib. It is widely used for creating informative and attractive statistical graphics. Here are some common use cases for Seaborn:\n",
        "\n",
        "    1.Exploratory Data Analysis (EDA)\n",
        "    Distribution Analysis: Use sns.histplot, sns.kdeplot, or sns.boxplot to understand the distribution of data and detect outliers.\n",
        "    Relationship Analysis: Use sns.scatterplot or sns.relplot to explore relationships between two numerical variables.\n",
        "    \n",
        "    2.Statistical Analysis\n",
        "    Regression Plots: Use sns.regplot or sns.lmplot to visualize linear and non-linear regression models.\n",
        "    Correlation Heatmaps: Use sns.heatmap to display the correlation matrix and identify strongly correlated variables.\n",
        "    \n",
        "    3.Category Comparisons\n",
        "    Bar Charts: Use sns.barplot to compare categorical data with summary statistics.\n",
        "    Violin and Swarm Plots: Use sns.violinplot and sns.swarmplot for detailed distributions of data across categories.\n",
        "    \n",
        "    4.Time Series Analysis\n",
        "    Use sns.lineplot to visualize trends or patterns in time series data.\n",
        "    5\n",
        "    .Clustering and Heatmaps\n",
        "    Cluster Maps: Use sns.clustermap to visualize clustered heatmaps for multivariate data.\n",
        "    Categorical Heatmaps: Use sns.heatmap for a visual summary of 2D data.\n",
        "    \n",
        "    6.Faceted Visualizations\n",
        "    Use sns.FacetGrid or sns.pairplot to create grids of plots based on subsets of the data for comparing multiple variables.\n",
        "    \n",
        "    7.Enhancing Matplotlib Visualizations\n",
        "    Seaborn integrates seamlessly with Matplotlib, allowing you to apply themes (sns.set_theme) or add statistical details to Matplotlib plots.\n",
        "    \n",
        "    8.Customizable Aesthetics\n",
        "    Adjust themes and styles to improve visual appeal (sns.set_style, sns.set_context).\n",
        "    \n",
        "    9.Handling Missing Data\n",
        "    Use sns.heatmap to visualize missing values in a dataset.\n",
        "    \n",
        "    10.Pairwise Comparisons\n",
        "    Use sns.pairplot to visualize pairwise relationships in a dataset, especially useful for multidimensional datasets."
      ],
      "metadata": {
        "id": "3EAVc0-jCxUe"
      }
    },
    {
      "cell_type": "markdown",
      "source": [
        "                                                               **PRACTICAL**"
      ],
      "metadata": {
        "id": "0mPyvXyODrVU"
      }
    },
    {
      "cell_type": "markdown",
      "source": [
        "    1.How do you create a 2D NumPy array and calculate the sum of each row?\n",
        "    To create a 2D NumPy array and calculate the sum of each row, follow these steps:\n",
        "\n",
        "    Step 1: Import NumPy\n",
        "    First, ensure you have NumPy imported. You can do this with the following line:"
      ],
      "metadata": {
        "id": "5K9q9BSBE7m9"
      }
    },
    {
      "cell_type": "code",
      "source": [
        "import numpy as np\n"
      ],
      "metadata": {
        "id": "L8MJp8N8Fmjb"
      },
      "execution_count": null,
      "outputs": []
    },
    {
      "cell_type": "markdown",
      "source": [
        "    Step 2: Create a 2D Array\n",
        "    You can create a 2D NumPy array using the np.array() function, or you can generate one with functions like np.ones(), np.zeros(), or np.random.\n",
        "\n",
        "    Example:"
      ],
      "metadata": {
        "id": "ZSzDT-lcFrXd"
      }
    },
    {
      "cell_type": "code",
      "source": [
        "# Creating a 2D NumPy array manually\n",
        "array = np.array([[1, 2, 3], [4, 5, 6], [7, 8, 9]])\n"
      ],
      "metadata": {
        "id": "vWCfiC_UFwDz"
      },
      "execution_count": null,
      "outputs": []
    },
    {
      "cell_type": "markdown",
      "source": [
        "    Step 3: Calculate the Sum of Each Row\n",
        "    `Use the np.sum() function with the axis=1 parameter to calculate the sum of each row."
      ],
      "metadata": {
        "id": "jv62yMJAF2gv"
      }
    },
    {
      "cell_type": "code",
      "source": [
        "row_sums = np.sum(array, axis=1)\n"
      ],
      "metadata": {
        "id": "U1pXhmOwF60S"
      },
      "execution_count": null,
      "outputs": []
    },
    {
      "cell_type": "markdown",
      "source": [
        "    Full Example Code:\n",
        "\n"
      ],
      "metadata": {
        "id": "82cz1i8ZF_yj"
      }
    },
    {
      "cell_type": "code",
      "source": [
        "import numpy as np\n",
        "\n",
        "# Create a 2D NumPy array\n",
        "array = np.array([[1, 2, 3], [4, 5, 6], [7, 8, 9]])\n",
        "\n",
        "# Calculate the sum of each row\n",
        "row_sums = np.sum(array, axis=1)\n",
        "\n",
        "print(\"2D Array:\")\n",
        "print(array)\n",
        "print(\"Sum of each row:\")\n",
        "print(row_sums)\n"
      ],
      "metadata": {
        "colab": {
          "base_uri": "https://localhost:8080/"
        },
        "id": "kMLxm343GD2L",
        "outputId": "e554d98b-fb17-4da6-b29f-f6817defee24"
      },
      "execution_count": null,
      "outputs": [
        {
          "output_type": "stream",
          "name": "stdout",
          "text": [
            "2D Array:\n",
            "[[1 2 3]\n",
            " [4 5 6]\n",
            " [7 8 9]]\n",
            "Sum of each row:\n",
            "[ 6 15 24]\n"
          ]
        }
      ]
    },
    {
      "cell_type": "markdown",
      "source": [
        "    The axis=1 argument tells NumPy to perform the sum along the rows (i.e., horizontally across each row)."
      ],
      "metadata": {
        "id": "eUPQGkU7GJH8"
      }
    },
    {
      "cell_type": "markdown",
      "source": [
        "    2.Write a Pandas script to find the mean of a specific column in a DataFrame?\n",
        "    Here’s a Python script using Pandas to find the mean of a specific column in a DataFrame:\n"
      ],
      "metadata": {
        "id": "KQXEGmASFHRE"
      }
    },
    {
      "cell_type": "code",
      "source": [
        "import pandas as pd\n",
        "\n",
        "# Sample DataFrame\n",
        "data = {\n",
        "    'Name': ['Alice', 'Bob', 'Charlie', 'David'],\n",
        "    'Age': [25, 30, 35, 40],\n",
        "    'Score': [85, 90, 95, 100]\n",
        "}\n",
        "\n",
        "df = pd.DataFrame(data)\n",
        "\n",
        "# Calculate the mean of a specific column (e.g., 'Age')\n",
        "column_name = 'Age'\n",
        "mean_value = df[column_name].mean()\n",
        "\n",
        "print(f\"The mean of the column '{column_name}' is: {mean_value}\")\n"
      ],
      "metadata": {
        "colab": {
          "base_uri": "https://localhost:8080/"
        },
        "id": "aYJdmceSFdFa",
        "outputId": "684641c4-a411-4f8f-aac9-aa715816519f"
      },
      "execution_count": null,
      "outputs": [
        {
          "output_type": "stream",
          "name": "stdout",
          "text": [
            "The mean of the column 'Age' is: 32.5\n"
          ]
        }
      ]
    },
    {
      "cell_type": "markdown",
      "source": [
        "    3.Create a scatter plot using Matplotlib?\n",
        "    Here's how you can create a simple scatter plot using Matplotlib in Python:"
      ],
      "metadata": {
        "id": "9omOpDLpGBpJ"
      }
    },
    {
      "cell_type": "code",
      "source": [
        "import matplotlib.pyplot as plt\n",
        "import numpy as np\n",
        "\n",
        "# Sample data\n",
        "x = np.random.rand(50) * 10  # Random values for x between 0 and 10\n",
        "y = np.random.rand(50) * 10  # Random values for y between 0 and 10\n",
        "sizes = np.random.rand(50) * 100  # Random sizes for the points\n",
        "colors = np.random.rand(50)  # Random colors\n",
        "\n",
        "# Create scatter plot\n",
        "plt.figure(figsize=(8, 6))\n",
        "plt.scatter(x, y, s=sizes, c=colors, alpha=0.7, cmap='viridis')\n",
        "plt.colorbar(label='Color Intensity')\n",
        "\n",
        "# Add labels and title\n",
        "plt.title('Sample Scatter Plot')\n",
        "plt.xlabel('X-axis Label')\n",
        "plt.ylabel('Y-axis Label')\n",
        "\n",
        "# Show plot\n",
        "plt.show()\n"
      ],
      "metadata": {
        "colab": {
          "base_uri": "https://localhost:8080/",
          "height": 564
        },
        "id": "W7H2Enh6N0jE",
        "outputId": "9d7ef79f-03be-4a27-89fe-33b8587dd4e0"
      },
      "execution_count": null,
      "outputs": [
        {
          "output_type": "display_data",
          "data": {
            "text/plain": [
              "<Figure size 800x600 with 2 Axes>"
            ],
            "image/png": "[encoded data removed]"
          },
          "metadata": {}
        }
      ]
    },
    {
      "cell_type": "markdown",
      "source": [
        "    Answer in chat instead>\n",
        "    This code generates a scatter plot where:\n",
        "\n",
        "    1.x and y determine the positions of the points.\n",
        "    2.sizes control the size of the points.\n",
        "    3.colors control the color of the points, with a colormap applied for better visualization.\n",
        "\n",
        "    Feel free to modify the data or styling to suit your needs! Let me know if you'd like to enhance this example."
      ],
      "metadata": {
        "id": "CKBtnmZdOJew"
      }
    },
    {
      "cell_type": "markdown",
      "source": [
        "    4.How do you calculate the correlation matrix using Seaborn and visualize it with a heatmap?\n",
        "    To calculate and visualize a correlation matrix using Seaborn, you can follow these steps:\n",
        "\n",
        "    1.Import Necessary Libraries:\n",
        "    Make sure you have Seaborn and other required libraries like Pandas and Matplotlib installed."
      ],
      "metadata": {
        "id": "tBnjhknxOfLx"
      }
    },
    {
      "cell_type": "code",
      "source": [
        "import pandas as pd\n",
        "import seaborn as sns\n",
        "import matplotlib.pyplot as plt\n"
      ],
      "metadata": {
        "id": "S9iZouYcO3Io"
      },
      "execution_count": null,
      "outputs": []
    },
    {
      "cell_type": "markdown",
      "source": [
        "    2.Prepare Your Data:\n",
        "    Load your dataset into a Pandas DataFrame. For example:"
      ],
      "metadata": {
        "id": "B61s-ZcIO9Vn"
      }
    },
    {
      "cell_type": "code",
      "source": [
        "# Example: Load a sample dataset\n",
        "df = sns.load_dataset('iris')\n"
      ],
      "metadata": {
        "id": "dlX7setpPE6X"
      },
      "execution_count": null,
      "outputs": []
    },
    {
      "cell_type": "markdown",
      "source": [
        "    3.Calculate the Correlation Matrix:\n",
        "    You can calculate the correlation matrix using Pandas' .corr() method."
      ],
      "metadata": {
        "id": "QECKM640PKEw"
      }
    },
    {
      "source": [
        "# Example: Load a sample dataset\n",
        "df = sns.load_dataset('iris')\n",
        "\n",
        "# Select only numerical columns for correlation calculation\n",
        "numerical_cols = df.select_dtypes(include=['number']).columns\n",
        "correlation_matrix = df[numerical_cols].corr()"
      ],
      "cell_type": "code",
      "metadata": {
        "id": "EJuNNAgWaZIA"
      },
      "execution_count": 9,
      "outputs": []
    },
    {
      "cell_type": "markdown",
      "source": [
        "    4.Visualize with Seaborn Heatmap:\n",
        "    Use Seaborn's heatmap() function to create a visualization."
      ],
      "metadata": {
        "id": "ssZHcKs8af0-"
      }
    },
    {
      "cell_type": "code",
      "source": [
        "plt.figure(figsize=(10, 8))\n",
        "sns.heatmap(correlation_matrix, annot=True, cmap='coolwarm', fmt=\".2f\", linewidths=0.5)\n",
        "plt.title('Correlation Matrix Heatmap')\n",
        "plt.show()\n"
      ],
      "metadata": {
        "colab": {
          "base_uri": "https://localhost:8080/",
          "height": 699
        },
        "id": "ZwxDCJqIasce",
        "outputId": "53f16b15-b55b-47e5-a4fd-33c7e7b4c6d4"
      },
      "execution_count": 10,
      "outputs": [
        {
          "output_type": "display_data",
          "data": {
            "text/plain": [
              "<Figure size 1000x800 with 2 Axes>"
            ],
            "image/png": "[encoded data removed]"
          },
          "metadata": {}
        }
      ]
    },
    {
      "cell_type": "markdown",
      "source": [
        "    5.A Generate a bar plot using Plotly?\n",
        "    Here’s an example of how to create a bar plot using Plotly in Python. If you have specific data you'd like to visualize, let me know, and I can customize the example for you.\n",
        "\n",
        "    Example Code:\n",
        "\n"
      ],
      "metadata": {
        "id": "6lV77plia-WA"
      }
    },
    {
      "cell_type": "code",
      "source": [
        "import plotly.graph_objects as go\n",
        "\n",
        "# Sample data\n",
        "categories = ['Category A', 'Category B', 'Category C', 'Category D']\n",
        "values = [20, 14, 23, 17]\n",
        "\n",
        "# Create bar plot\n",
        "fig = go.Figure(data=[\n",
        "    go.Bar(x=categories, y=values, marker_color='blue')\n",
        "])\n",
        "\n",
        "# Add layout details\n",
        "fig.update_layout(\n",
        "    title='Bar Plot Example',\n",
        "    xaxis_title='Categories',\n",
        "    yaxis_title='Values',\n",
        "    template='plotly_white'\n",
        ")\n",
        "\n",
        "# Show the plot\n",
        "fig.show()\n"
      ],
      "metadata": {
        "colab": {
          "base_uri": "https://localhost:8080/",
          "height": 542
        },
        "id": "BFXPmDIdbOvI",
        "outputId": "38c85944-870b-46d9-bc6a-d3bb16f6e5f5"
      },
      "execution_count": 11,
      "outputs": [
        {
          "output_type": "display_data",
          "data": {
            "text/html": [
              "<html>\n",
              "<head><meta charset=\"utf-8\" /></head>\n",
              "<body>\n",
              "    <div>            <script src=\"https://cdnjs.cloudflare.com/ajax/libs/mathjax/2.7.5/MathJax.js?config=TeX-AMS-MML_SVG\"></script><script type=\"text/javascript\">if (window.MathJax && window.MathJax.Hub && window.MathJax.Hub.Config) {window.MathJax.Hub.Config({SVG: {font: \"STIX-Web\"}});}</script>                <script type=\"text/javascript\">window.PlotlyConfig = {MathJaxConfig: 'local'};</script>\n",
              "        <script charset=\"utf-8\" src=\"https://cdn.plot.ly/plotly-2.35.2.min.js\"></script>                <div id=\"c1465c2f-94fe-4d01-9fff-367657b859c7\" class=\"plotly-graph-div\" style=\"height:525px; width:100%;\"></div>            <script type=\"text/javascript\">                                    window.PLOTLYENV=window.PLOTLYENV || {};                                    if (document.getElementById(\"c1465c2f-94fe-4d01-9fff-367657b859c7\")) {                    Plotly.newPlot(                        \"c1465c2f-94fe-4d01-9fff-367657b859c7\",                        [{\"marker\":{\"color\":\"blue\"},\"x\":[\"Category A\",\"Category B\",\"Category C\",\"Category D\"],\"y\":[20,14,23,17],\"type\":\"bar\"}],                        {\"template\":{\"data\":{\"barpolar\":[{\"marker\":{\"line\":{\"color\":\"white\",\"width\":0.5},\"pattern\":{\"fillmode\":\"overlay\",\"size\":10,\"solidity\":0.2}},\"type\":\"barpolar\"}],\"bar\":[{\"error_x\":{\"color\":\"#2a3f5f\"},\"error_y\":{\"color\":\"#2a3f5f\"},\"marker\":{\"line\":{\"color\":\"white\",\"width\":0.5},\"pattern\":{\"fillmode\":\"overlay\",\"size\":10,\"solidity\":0.2}},\"type\":\"bar\"}],\"carpet\":[{\"aaxis\":{\"endlinecolor\":\"#2a3f5f\",\"gridcolor\":\"#C8D4E3\",\"linecolor\":\"#C8D4E3\",\"minorgridcolor\":\"#C8D4E3\",\"startlinecolor\":\"#2a3f5f\"},\"baxis\":{\"endlinecolor\":\"#2a3f5f\",\"gridcolor\":\"#C8D4E3\",\"linecolor\":\"#C8D4E3\",\"minorgridcolor\":\"#C8D4E3\",\"startlinecolor\":\"#2a3f5f\"},\"type\":\"carpet\"}],\"choropleth\":[{\"colorbar\":{\"outlinewidth\":0,\"ticks\":\"\"},\"type\":\"choropleth\"}],\"contourcarpet\":[{\"colorbar\":{\"outlinewidth\":0,\"ticks\":\"\"},\"type\":\"contourcarpet\"}],\"contour\":[{\"colorbar\":{\"outlinewidth\":0,\"ticks\":\"\"},\"colorscale\":[[0.0,\"#0d0887\"],[0.1111111111111111,\"#46039f\"],[0.2222222222222222,\"#7201a8\"],[0.3333333333333333,\"#9c179e\"],[0.4444444444444444,\"#bd3786\"],[0.5555555555555556,\"#d8576b\"],[0.6666666666666666,\"#ed7953\"],[0.7777777777777778,\"#fb9f3a\"],[0.8888888888888888,\"#fdca26\"],[1.0,\"#f0f921\"]],\"type\":\"contour\"}],\"heatmapgl\":[{\"colorbar\":{\"outlinewidth\":0,\"ticks\":\"\"},\"colorscale\":[[0.0,\"#0d0887\"],[0.1111111111111111,\"#46039f\"],[0.2222222222222222,\"#7201a8\"],[0.3333333333333333,\"#9c179e\"],[0.4444444444444444,\"#bd3786\"],[0.5555555555555556,\"#d8576b\"],[0.6666666666666666,\"#ed7953\"],[0.7777777777777778,\"#fb9f3a\"],[0.8888888888888888,\"#fdca26\"],[1.0,\"#f0f921\"]],\"type\":\"heatmapgl\"}],\"heatmap\":[{\"colorbar\":{\"outlinewidth\":0,\"ticks\":\"\"},\"colorscale\":[[0.0,\"#0d0887\"],[0.1111111111111111,\"#46039f\"],[0.2222222222222222,\"#7201a8\"],[0.3333333333333333,\"#9c179e\"],[0.4444444444444444,\"#bd3786\"],[0.5555555555555556,\"#d8576b\"],[0.6666666666666666,\"#ed7953\"],[0.7777777777777778,\"#fb9f3a\"],[0.8888888888888888,\"#fdca26\"],[1.0,\"#f0f921\"]],\"type\":\"heatmap\"}],\"histogram2dcontour\":[{\"colorbar\":{\"outlinewidth\":0,\"ticks\":\"\"},\"colorscale\":[[0.0,\"#0d0887\"],[0.1111111111111111,\"#46039f\"],[0.2222222222222222,\"#7201a8\"],[0.3333333333333333,\"#9c179e\"],[0.4444444444444444,\"#bd3786\"],[0.5555555555555556,\"#d8576b\"],[0.6666666666666666,\"#ed7953\"],[0.7777777777777778,\"#fb9f3a\"],[0.8888888888888888,\"#fdca26\"],[1.0,\"#f0f921\"]],\"type\":\"histogram2dcontour\"}],\"histogram2d\":[{\"colorbar\":{\"outlinewidth\":0,\"ticks\":\"\"},\"colorscale\":[[0.0,\"#0d0887\"],[0.1111111111111111,\"#46039f\"],[0.2222222222222222,\"#7201a8\"],[0.3333333333333333,\"#9c179e\"],[0.4444444444444444,\"#bd3786\"],[0.5555555555555556,\"#d8576b\"],[0.6666666666666666,\"#ed7953\"],[0.7777777777777778,\"#fb9f3a\"],[0.8888888888888888,\"#fdca26\"],[1.0,\"#f0f921\"]],\"type\":\"histogram2d\"}],\"histogram\":[{\"marker\":{\"pattern\":{\"fillmode\":\"overlay\",\"size\":10,\"solidity\":0.2}},\"type\":\"histogram\"}],\"mesh3d\":[{\"colorbar\":{\"outlinewidth\":0,\"ticks\":\"\"},\"type\":\"mesh3d\"}],\"parcoords\":[{\"line\":{\"colorbar\":{\"outlinewidth\":0,\"ticks\":\"\"}},\"type\":\"parcoords\"}],\"pie\":[{\"automargin\":true,\"type\":\"pie\"}],\"scatter3d\":[{\"line\":{\"colorbar\":{\"outlinewidth\":0,\"ticks\":\"\"}},\"marker\":{\"colorbar\":{\"outlinewidth\":0,\"ticks\":\"\"}},\"type\":\"scatter3d\"}],\"scattercarpet\":[{\"marker\":{\"colorbar\":{\"outlinewidth\":0,\"ticks\":\"\"}},\"type\":\"scattercarpet\"}],\"scattergeo\":[{\"marker\":{\"colorbar\":{\"outlinewidth\":0,\"ticks\":\"\"}},\"type\":\"scattergeo\"}],\"scattergl\":[{\"marker\":{\"colorbar\":{\"outlinewidth\":0,\"ticks\":\"\"}},\"type\":\"scattergl\"}],\"scattermapbox\":[{\"marker\":{\"colorbar\":{\"outlinewidth\":0,\"ticks\":\"\"}},\"type\":\"scattermapbox\"}],\"scatterpolargl\":[{\"marker\":{\"colorbar\":{\"outlinewidth\":0,\"ticks\":\"\"}},\"type\":\"scatterpolargl\"}],\"scatterpolar\":[{\"marker\":{\"colorbar\":{\"outlinewidth\":0,\"ticks\":\"\"}},\"type\":\"scatterpolar\"}],\"scatter\":[{\"fillpattern\":{\"fillmode\":\"overlay\",\"size\":10,\"solidity\":0.2},\"type\":\"scatter\"}],\"scatterternary\":[{\"marker\":{\"colorbar\":{\"outlinewidth\":0,\"ticks\":\"\"}},\"type\":\"scatterternary\"}],\"surface\":[{\"colorbar\":{\"outlinewidth\":0,\"ticks\":\"\"},\"colorscale\":[[0.0,\"#0d0887\"],[0.1111111111111111,\"#46039f\"],[0.2222222222222222,\"#7201a8\"],[0.3333333333333333,\"#9c179e\"],[0.4444444444444444,\"#bd3786\"],[0.5555555555555556,\"#d8576b\"],[0.6666666666666666,\"#ed7953\"],[0.7777777777777778,\"#fb9f3a\"],[0.8888888888888888,\"#fdca26\"],[1.0,\"#f0f921\"]],\"type\":\"surface\"}],\"table\":[{\"cells\":{\"fill\":{\"color\":\"#EBF0F8\"},\"line\":{\"color\":\"white\"}},\"header\":{\"fill\":{\"color\":\"#C8D4E3\"},\"line\":{\"color\":\"white\"}},\"type\":\"table\"}]},\"layout\":{\"annotationdefaults\":{\"arrowcolor\":\"#2a3f5f\",\"arrowhead\":0,\"arrowwidth\":1},\"autotypenumbers\":\"strict\",\"coloraxis\":{\"colorbar\":{\"outlinewidth\":0,\"ticks\":\"\"}},\"colorscale\":{\"diverging\":[[0,\"#8e0152\"],[0.1,\"#c51b7d\"],[0.2,\"#de77ae\"],[0.3,\"#f1b6da\"],[0.4,\"#fde0ef\"],[0.5,\"#f7f7f7\"],[0.6,\"#e6f5d0\"],[0.7,\"#b8e186\"],[0.8,\"#7fbc41\"],[0.9,\"#4d9221\"],[1,\"#276419\"]],\"sequential\":[[0.0,\"#0d0887\"],[0.1111111111111111,\"#46039f\"],[0.2222222222222222,\"#7201a8\"],[0.3333333333333333,\"#9c179e\"],[0.4444444444444444,\"#bd3786\"],[0.5555555555555556,\"#d8576b\"],[0.6666666666666666,\"#ed7953\"],[0.7777777777777778,\"#fb9f3a\"],[0.8888888888888888,\"#fdca26\"],[1.0,\"#f0f921\"]],\"sequentialminus\":[[0.0,\"#0d0887\"],[0.1111111111111111,\"#46039f\"],[0.2222222222222222,\"#7201a8\"],[0.3333333333333333,\"#9c179e\"],[0.4444444444444444,\"#bd3786\"],[0.5555555555555556,\"#d8576b\"],[0.6666666666666666,\"#ed7953\"],[0.7777777777777778,\"#fb9f3a\"],[0.8888888888888888,\"#fdca26\"],[1.0,\"#f0f921\"]]},\"colorway\":[\"#636efa\",\"#EF553B\",\"#00cc96\",\"#ab63fa\",\"#FFA15A\",\"#19d3f3\",\"#FF6692\",\"#B6E880\",\"#FF97FF\",\"#FECB52\"],\"font\":{\"color\":\"#2a3f5f\"},\"geo\":{\"bgcolor\":\"white\",\"lakecolor\":\"white\",\"landcolor\":\"white\",\"showlakes\":true,\"showland\":true,\"subunitcolor\":\"#C8D4E3\"},\"hoverlabel\":{\"align\":\"left\"},\"hovermode\":\"closest\",\"mapbox\":{\"style\":\"light\"},\"paper_bgcolor\":\"white\",\"plot_bgcolor\":\"white\",\"polar\":{\"angularaxis\":{\"gridcolor\":\"#EBF0F8\",\"linecolor\":\"#EBF0F8\",\"ticks\":\"\"},\"bgcolor\":\"white\",\"radialaxis\":{\"gridcolor\":\"#EBF0F8\",\"linecolor\":\"#EBF0F8\",\"ticks\":\"\"}},\"scene\":{\"xaxis\":{\"backgroundcolor\":\"white\",\"gridcolor\":\"#DFE8F3\",\"gridwidth\":2,\"linecolor\":\"#EBF0F8\",\"showbackground\":true,\"ticks\":\"\",\"zerolinecolor\":\"#EBF0F8\"},\"yaxis\":{\"backgroundcolor\":\"white\",\"gridcolor\":\"#DFE8F3\",\"gridwidth\":2,\"linecolor\":\"#EBF0F8\",\"showbackground\":true,\"ticks\":\"\",\"zerolinecolor\":\"#EBF0F8\"},\"zaxis\":{\"backgroundcolor\":\"white\",\"gridcolor\":\"#DFE8F3\",\"gridwidth\":2,\"linecolor\":\"#EBF0F8\",\"showbackground\":true,\"ticks\":\"\",\"zerolinecolor\":\"#EBF0F8\"}},\"shapedefaults\":{\"line\":{\"color\":\"#2a3f5f\"}},\"ternary\":{\"aaxis\":{\"gridcolor\":\"#DFE8F3\",\"linecolor\":\"#A2B1C6\",\"ticks\":\"\"},\"baxis\":{\"gridcolor\":\"#DFE8F3\",\"linecolor\":\"#A2B1C6\",\"ticks\":\"\"},\"bgcolor\":\"white\",\"caxis\":{\"gridcolor\":\"#DFE8F3\",\"linecolor\":\"#A2B1C6\",\"ticks\":\"\"}},\"title\":{\"x\":0.05},\"xaxis\":{\"automargin\":true,\"gridcolor\":\"#EBF0F8\",\"linecolor\":\"#EBF0F8\",\"ticks\":\"\",\"title\":{\"standoff\":15},\"zerolinecolor\":\"#EBF0F8\",\"zerolinewidth\":2},\"yaxis\":{\"automargin\":true,\"gridcolor\":\"#EBF0F8\",\"linecolor\":\"#EBF0F8\",\"ticks\":\"\",\"title\":{\"standoff\":15},\"zerolinecolor\":\"#EBF0F8\",\"zerolinewidth\":2}}},\"title\":{\"text\":\"Bar Plot Example\"},\"xaxis\":{\"title\":{\"text\":\"Categories\"}},\"yaxis\":{\"title\":{\"text\":\"Values\"}}},                        {\"responsive\": true}                    ).then(function(){\n",
              "                            \n",
              "var gd = document.getElementById('c1465c2f-94fe-4d01-9fff-367657b859c7');\n",
              "var x = new MutationObserver(function (mutations, observer) {{\n",
              "        var display = window.getComputedStyle(gd).display;\n",
              "        if (!display || display === 'none') {{\n",
              "            console.log([gd, 'removed!']);\n",
              "            Plotly.purge(gd);\n",
              "            observer.disconnect();\n",
              "        }}\n",
              "}});\n",
              "\n",
              "// Listen for the removal of the full notebook cells\n",
              "var notebookContainer = gd.closest('#notebook-container');\n",
              "if (notebookContainer) {{\n",
              "    x.observe(notebookContainer, {childList: true});\n",
              "}}\n",
              "\n",
              "// Listen for the clearing of the current output cell\n",
              "var outputEl = gd.closest('.output');\n",
              "if (outputEl) {{\n",
              "    x.observe(outputEl, {childList: true});\n",
              "}}\n",
              "\n",
              "                        })                };                            </script>        </div>\n",
              "</body>\n",
              "</html>"
            ]
          },
          "metadata": {}
        }
      ]
    },
    {
      "cell_type": "markdown",
      "source": [
        "    This will generate a bar plot where each category is represented on the x-axis, and the values are plotted on the y-axis. If you have specific requirements, like custom colors or labels, feel free to share!"
      ],
      "metadata": {
        "id": "WPGrbcgcbVPW"
      }
    },
    {
      "cell_type": "markdown",
      "source": [
        "    6.Create a DataFrame and add a new column based on an existing column.\n",
        "    To create a DataFrame and add a new column based on an existing one, you can use Python's pandas library. Here's an example:\n",
        "\n",
        "    Example"
      ],
      "metadata": {
        "id": "jj-HZHgFbaQW"
      }
    },
    {
      "cell_type": "code",
      "source": [
        "import pandas as pd\n",
        "\n",
        "# Create a DataFrame\n",
        "data = {\n",
        "    'Name': ['Alice', 'Bob', 'Charlie'],\n",
        "    'Age': [25, 30, 35]\n",
        "}\n",
        "df = pd.DataFrame(data)\n",
        "\n",
        "# Add a new column based on the existing 'Age' column\n",
        "df['Age_in_5_years'] = df['Age'] + 5\n",
        "\n",
        "print(df)\n"
      ],
      "metadata": {
        "colab": {
          "base_uri": "https://localhost:8080/"
        },
        "id": "cawl4auvbqV2",
        "outputId": "8bc0ca3c-73e7-4e69-c6bf-ea8034285b6c"
      },
      "execution_count": 12,
      "outputs": [
        {
          "output_type": "stream",
          "name": "stdout",
          "text": [
            "      Name  Age  Age_in_5_years\n",
            "0    Alice   25              30\n",
            "1      Bob   30              35\n",
            "2  Charlie   35              40\n"
          ]
        }
      ]
    },
    {
      "cell_type": "markdown",
      "source": [
        "    In this example:\n",
        "\n",
        "    1.We first create a DataFrame df with columns Name and Age.\n",
        "    2.We then add a new column, Age_in_5_years, which is calculated by adding 5 to the values in the Age column.\n",
        "    \n",
        "    You can customize the operation in the new column based on your needs."
      ],
      "metadata": {
        "id": "9i4RcupnbzLt"
      }
    },
    {
      "cell_type": "markdown",
      "source": [
        "    7.Write a program to perform element-wise multiplication of two NumPy arrays.\n",
        "    Here’s an example Python program that performs element-wise multiplication of two NumPy arrays:\n",
        "\n"
      ],
      "metadata": {
        "id": "3PHS0h6dcHZO"
      }
    },
    {
      "cell_type": "code",
      "source": [
        "import numpy as np\n",
        "\n",
        "# Define two NumPy arrays\n",
        "array1 = np.array([1, 2, 3, 4, 5])\n",
        "array2 = np.array([10, 20, 30, 40, 50])\n",
        "\n",
        "# Perform element-wise multiplication\n",
        "result = np.multiply(array1, array2)\n",
        "\n",
        "# Print the result\n",
        "print(\"Array 1:\", array1)\n",
        "print(\"Array 2:\", array2)\n",
        "print(\"Result of element-wise multiplication:\", result)\n"
      ],
      "metadata": {
        "colab": {
          "base_uri": "https://localhost:8080/"
        },
        "id": "1hag87eLcXR-",
        "outputId": "0203b6ce-ea25-4d91-f64e-f8fbb68cac90"
      },
      "execution_count": 13,
      "outputs": [
        {
          "output_type": "stream",
          "name": "stdout",
          "text": [
            "Array 1: [1 2 3 4 5]\n",
            "Array 2: [10 20 30 40 50]\n",
            "Result of element-wise multiplication: [ 10  40  90 160 250]\n"
          ]
        }
      ]
    },
    {
      "cell_type": "markdown",
      "source": [
        "    8.Create a line plot with multiple lines using Matplotlib.\n",
        "    Here's a step-by-step example of how to create a line plot with multiple lines using Matplotlib:\n",
        "\n",
        "    Code Example"
      ],
      "metadata": {
        "id": "D-QjIiclcct8"
      }
    },
    {
      "cell_type": "code",
      "source": [
        "import matplotlib.pyplot as plt\n",
        "\n",
        "# Data for the lines\n",
        "x = [1, 2, 3, 4, 5]\n",
        "y1 = [1, 4, 9, 16, 25]\n",
        "y2 = [2, 3, 5, 7, 11]\n",
        "y3 = [5, 10, 15, 20, 25]\n",
        "\n",
        "# Create a figure and axis\n",
        "plt.figure(figsize=(8, 6))\n",
        "\n",
        "# Plot multiple lines\n",
        "plt.plot(x, y1, label='y = x^2', color='red', linestyle='-', marker='o')\n",
        "plt.plot(x, y2, label='y = prime numbers', color='blue', linestyle='--', marker='x')\n",
        "plt.plot(x, y3, label='y = multiples of 5', color='green', linestyle='-.', marker='s')\n",
        "\n",
        "# Add titles and labels\n",
        "plt.title(\"Line Plot with Multiple Lines\", fontsize=14)\n",
        "plt.xlabel(\"X-axis\", fontsize=12)\n",
        "plt.ylabel(\"Y-axis\", fontsize=12)\n",
        "\n",
        "# Add legend\n",
        "plt.legend()\n",
        "\n",
        "# Add grid\n",
        "plt.grid(True, linestyle='--', alpha=0.5)\n",
        "\n",
        "# Show the plot\n",
        "plt.show()\n"
      ],
      "metadata": {
        "colab": {
          "base_uri": "https://localhost:8080/",
          "height": 569
        },
        "id": "bj1LJiMfcw1V",
        "outputId": "51958fa8-79fd-47d0-cf8a-977b4d1746c8"
      },
      "execution_count": 14,
      "outputs": [
        {
          "output_type": "display_data",
          "data": {
            "text/plain": [
              "<Figure size 800x600 with 1 Axes>"
            ],
            "image/png": "[encoded data removed]"
          },
          "metadata": {}
        }
      ]
    },
    {
      "cell_type": "markdown",
      "source": [
        "    Explanation of the Code:\n",
        "    \n",
        "    1.Data: Define x and y values for each line.\n",
        "    \n",
        "    2.plt.plot: Use this function to plot each line, specifying the color, linestyle, and marker.\n",
        "    \n",
        "    3.Labels and Titles:\n",
        "    Use label for the legend entries.\n",
        "    Add a title, x-axis label, and y-axis label for context.\n",
        "    \n",
        "    4.Legend: Display the labels using plt.legend().\n",
        "    \n",
        "    5.Grid: Add a grid with custom styles for better visualization.\n",
        "\n",
        "    Output\n",
        "    The plot will have three lines, each with unique styling (color, linestyle, and marker), along with a title, axis labels, legend, and gridlines."
      ],
      "metadata": {
        "id": "ZO5PGx8ydDdF"
      }
    },
    {
      "cell_type": "markdown",
      "source": [
        "    9.Generate a Pandas DataFrame and filter rows where a column value is greater than a threshold.\n",
        "    Here’s an example of how to create a Pandas DataFrame, filter its rows based on a column value, and display the result:"
      ],
      "metadata": {
        "id": "cRCZ9Zl5dikH"
      }
    },
    {
      "cell_type": "code",
      "source": [
        "import pandas as pd\n",
        "\n",
        "# Create a sample DataFrame\n",
        "data = {\n",
        "    \"Name\": [\"Alice\", \"Bob\", \"Charlie\", \"David\", \"Eve\"],\n",
        "    \"Age\": [24, 30, 18, 35, 28],\n",
        "    \"Score\": [85, 90, 75, 88, 95],\n",
        "}\n",
        "\n",
        "df = pd.DataFrame(data)\n",
        "\n",
        "# Define the threshold\n",
        "threshold = 25\n",
        "\n",
        "# Filter rows where Age is greater than the threshold\n",
        "filtered_df = df[df[\"Age\"] > threshold]\n",
        "\n",
        "print(\"Original DataFrame:\")\n",
        "print(df)\n",
        "print(\"\\nFiltered DataFrame (Age > 25):\")\n",
        "print(filtered_df)\n"
      ],
      "metadata": {
        "colab": {
          "base_uri": "https://localhost:8080/"
        },
        "id": "MP4qKjlNdv8M",
        "outputId": "86c36367-201f-474c-b6a2-b9105a3e2135"
      },
      "execution_count": 15,
      "outputs": [
        {
          "output_type": "stream",
          "name": "stdout",
          "text": [
            "Original DataFrame:\n",
            "      Name  Age  Score\n",
            "0    Alice   24     85\n",
            "1      Bob   30     90\n",
            "2  Charlie   18     75\n",
            "3    David   35     88\n",
            "4      Eve   28     95\n",
            "\n",
            "Filtered DataFrame (Age > 25):\n",
            "    Name  Age  Score\n",
            "1    Bob   30     90\n",
            "3  David   35     88\n",
            "4    Eve   28     95\n"
          ]
        }
      ]
    },
    {
      "cell_type": "markdown",
      "source": [
        "    10.Create a histogram using Seaborn to visualize a distribution.\n",
        "    To create a histogram using Seaborn to visualize a distribution, you can use the seaborn.histplot() function. Here’s a basic example:"
      ],
      "metadata": {
        "id": "Rhk1V9jZd_3M"
      }
    },
    {
      "cell_type": "code",
      "source": [
        "import seaborn as sns\n",
        "import matplotlib.pyplot as plt\n",
        "\n",
        "# Sample data (e.g., a random distribution)\n",
        "data = sns.load_dataset(\"tips\")  # You can replace this with any dataset or array of your choice\n",
        "\n",
        "# Plotting the histogram\n",
        "sns.histplot(data['total_bill'], kde=True)  # 'total_bill' is a column in the 'tips' dataset\n",
        "plt.title('Histogram of Total Bill')\n",
        "plt.xlabel('Total Bill')\n",
        "plt.ylabel('Frequency')\n",
        "plt.show()\n"
      ],
      "metadata": {
        "colab": {
          "base_uri": "https://localhost:8080/",
          "height": 472
        },
        "id": "zxFv9OgheVbF",
        "outputId": "99ef4793-79d8-4169-908e-5dc4e98c59d4"
      },
      "execution_count": 16,
      "outputs": [
        {
          "output_type": "display_data",
          "data": {
            "text/plain": [
              "<Figure size 640x480 with 1 Axes>"
            ],
            "image/png": "[encoded data removed]"
          },
          "metadata": {}
        }
      ]
    },
    {
      "cell_type": "markdown",
      "source": [
        "    In this code:\n",
        "\n",
        "    1.The sns.histplot() function is used to plot the histogram.\n",
        "    2.data['total_bill'] is the data being visualized (you can replace it with your own dataset or array).\n",
        "    3.The kde=True argument adds a Kernel Density Estimation curve to the histogram for a smoother view of the distribution."
      ],
      "metadata": {
        "id": "OE-geyv4edM0"
      }
    },
    {
      "cell_type": "markdown",
      "source": [
        "    11.Perform matrix multiplication using NumPy.\n",
        "    To perform matrix multiplication using NumPy, you can use the np.dot() function or the @ operator, which is shorthand for matrix multiplication in Python.\n",
        "\n",
        "    Here's an example:"
      ],
      "metadata": {
        "id": "ZqZVTy20esTd"
      }
    },
    {
      "cell_type": "code",
      "source": [
        "import numpy as np\n",
        "\n",
        "# Define two matrices\n",
        "A = np.array([[1, 2], [3, 4]])\n",
        "B = np.array([[5, 6], [7, 8]])\n",
        "\n",
        "# Perform matrix multiplication using np.dot\n",
        "result = np.dot(A, B)\n",
        "\n",
        "# Alternatively, using the @ operator\n",
        "result_alt = A @ B\n",
        "\n",
        "print(\"Matrix multiplication result (using np.dot):\")\n",
        "print(result)\n",
        "\n",
        "print(\"Matrix multiplication result (using @):\")\n",
        "print(result_alt)\n"
      ],
      "metadata": {
        "colab": {
          "base_uri": "https://localhost:8080/"
        },
        "id": "EenEDTqAe2_r",
        "outputId": "c584661f-be04-4c5e-b499-2000775562cc"
      },
      "execution_count": 17,
      "outputs": [
        {
          "output_type": "stream",
          "name": "stdout",
          "text": [
            "Matrix multiplication result (using np.dot):\n",
            "[[19 22]\n",
            " [43 50]]\n",
            "Matrix multiplication result (using @):\n",
            "[[19 22]\n",
            " [43 50]]\n"
          ]
        }
      ]
    },
    {
      "cell_type": "markdown",
      "source": [
        "    This will perform the matrix multiplication of A and B. Both methods will give you the same result."
      ],
      "metadata": {
        "id": "lvVobwpZe_aj"
      }
    },
    {
      "cell_type": "markdown",
      "source": [
        "    12.Use Pandas to load a CSV file and display its first 5 rows.\n",
        "    To load a CSV file and display its first 5 rows using pandas, you can use the following code:\n",
        "\n"
      ],
      "metadata": {
        "id": "jq66f8IhfEZj"
      }
    },
    {
      "source": [
        "import pandas as pd\n",
        "\n",
        "# Replace 'your_file.csv' with the actual name of your CSV file\n",
        "# If the file is in the same directory:\n",
        "# file_path = 'actual_file_name.csv'\n",
        "# If the file is in a different directory:\n",
        "file_path = '/path/to/your/actual_file_name.csv'  # Provide the full path\n",
        "\n",
        "df = pd.read_csv(file_path)\n",
        "\n",
        "print(df.head())"
      ],
      "cell_type": "code",
      "metadata": {
        "colab": {
          "base_uri": "https://localhost:8080/",
          "height": 356
        },
        "id": "f-P5VrAof1TT",
        "outputId": "4d8d7cb0-18ad-49f9-8920-01b8d11c6789"
      },
      "execution_count": 21,
      "outputs": [
        {
          "output_type": "error",
          "ename": "FileNotFoundError",
          "evalue": "[Errno 2] No such file or directory: '/path/to/your/actual_file_name.csv'",
          "traceback": [
            "\u001b[0;31m---------------------------------------------------------------------------\u001b[0m",
            "\u001b[0;31mFileNotFoundError\u001b[0m                         Traceback (most recent call last)",
            "\u001b[0;32m<ipython-input-21-3a6befea2d09>\u001b[0m in \u001b[0;36m<cell line: 9>\u001b[0;34m()\u001b[0m\n\u001b[1;32m      7\u001b[0m \u001b[0mfile_path\u001b[0m \u001b[0;34m=\u001b[0m \u001b[0;34m'/path/to/your/actual_file_name.csv'\u001b[0m  \u001b[0;31m# Provide the full path\u001b[0m\u001b[0;34m\u001b[0m\u001b[0;34m\u001b[0m\u001b[0m\n\u001b[1;32m      8\u001b[0m \u001b[0;34m\u001b[0m\u001b[0m\n\u001b[0;32m----> 9\u001b[0;31m \u001b[0mdf\u001b[0m \u001b[0;34m=\u001b[0m \u001b[0mpd\u001b[0m\u001b[0;34m.\u001b[0m\u001b[0mread_csv\u001b[0m\u001b[0;34m(\u001b[0m\u001b[0mfile_path\u001b[0m\u001b[0;34m)\u001b[0m\u001b[0;34m\u001b[0m\u001b[0;34m\u001b[0m\u001b[0m\n\u001b[0m\u001b[1;32m     10\u001b[0m \u001b[0;34m\u001b[0m\u001b[0m\n\u001b[1;32m     11\u001b[0m \u001b[0mprint\u001b[0m\u001b[0;34m(\u001b[0m\u001b[0mdf\u001b[0m\u001b[0;34m.\u001b[0m\u001b[0mhead\u001b[0m\u001b[0;34m(\u001b[0m\u001b[0;34m)\u001b[0m\u001b[0;34m)\u001b[0m\u001b[0;34m\u001b[0m\u001b[0;34m\u001b[0m\u001b[0m\n",
            "\u001b[0;32m/usr/local/lib/python3.10/dist-packages/pandas/io/parsers/readers.py\u001b[0m in \u001b[0;36mread_csv\u001b[0;34m(filepath_or_buffer, sep, delimiter, header, names, index_col, usecols, dtype, engine, converters, true_values, false_values, skipinitialspace, skiprows, skipfooter, nrows, na_values, keep_default_na, na_filter, verbose, skip_blank_lines, parse_dates, infer_datetime_format, keep_date_col, date_parser, date_format, dayfirst, cache_dates, iterator, chunksize, compression, thousands, decimal, lineterminator, quotechar, quoting, doublequote, escapechar, comment, encoding, encoding_errors, dialect, on_bad_lines, delim_whitespace, low_memory, memory_map, float_precision, storage_options, dtype_backend)\u001b[0m\n\u001b[1;32m   1024\u001b[0m     \u001b[0mkwds\u001b[0m\u001b[0;34m.\u001b[0m\u001b[0mupdate\u001b[0m\u001b[0;34m(\u001b[0m\u001b[0mkwds_defaults\u001b[0m\u001b[0;34m)\u001b[0m\u001b[0;34m\u001b[0m\u001b[0;34m\u001b[0m\u001b[0m\n\u001b[1;32m   1025\u001b[0m \u001b[0;34m\u001b[0m\u001b[0m\n\u001b[0;32m-> 1026\u001b[0;31m     \u001b[0;32mreturn\u001b[0m \u001b[0m_read\u001b[0m\u001b[0;34m(\u001b[0m\u001b[0mfilepath_or_buffer\u001b[0m\u001b[0;34m,\u001b[0m \u001b[0mkwds\u001b[0m\u001b[0;34m)\u001b[0m\u001b[0;34m\u001b[0m\u001b[0;34m\u001b[0m\u001b[0m\n\u001b[0m\u001b[1;32m   1027\u001b[0m \u001b[0;34m\u001b[0m\u001b[0m\n\u001b[1;32m   1028\u001b[0m \u001b[0;34m\u001b[0m\u001b[0m\n",
            "\u001b[0;32m/usr/local/lib/python3.10/dist-packages/pandas/io/parsers/readers.py\u001b[0m in \u001b[0;36m_read\u001b[0;34m(filepath_or_buffer, kwds)\u001b[0m\n\u001b[1;32m    618\u001b[0m \u001b[0;34m\u001b[0m\u001b[0m\n\u001b[1;32m    619\u001b[0m     \u001b[0;31m# Create the parser.\u001b[0m\u001b[0;34m\u001b[0m\u001b[0;34m\u001b[0m\u001b[0m\n\u001b[0;32m--> 620\u001b[0;31m     \u001b[0mparser\u001b[0m \u001b[0;34m=\u001b[0m \u001b[0mTextFileReader\u001b[0m\u001b[0;34m(\u001b[0m\u001b[0mfilepath_or_buffer\u001b[0m\u001b[0;34m,\u001b[0m \u001b[0;34m**\u001b[0m\u001b[0mkwds\u001b[0m\u001b[0;34m)\u001b[0m\u001b[0;34m\u001b[0m\u001b[0;34m\u001b[0m\u001b[0m\n\u001b[0m\u001b[1;32m    621\u001b[0m \u001b[0;34m\u001b[0m\u001b[0m\n\u001b[1;32m    622\u001b[0m     \u001b[0;32mif\u001b[0m \u001b[0mchunksize\u001b[0m \u001b[0;32mor\u001b[0m \u001b[0miterator\u001b[0m\u001b[0;34m:\u001b[0m\u001b[0;34m\u001b[0m\u001b[0;34m\u001b[0m\u001b[0m\n",
            "\u001b[0;32m/usr/local/lib/python3.10/dist-packages/pandas/io/parsers/readers.py\u001b[0m in \u001b[0;36m__init__\u001b[0;34m(self, f, engine, **kwds)\u001b[0m\n\u001b[1;32m   1618\u001b[0m \u001b[0;34m\u001b[0m\u001b[0m\n\u001b[1;32m   1619\u001b[0m         \u001b[0mself\u001b[0m\u001b[0;34m.\u001b[0m\u001b[0mhandles\u001b[0m\u001b[0;34m:\u001b[0m \u001b[0mIOHandles\u001b[0m \u001b[0;34m|\u001b[0m \u001b[0;32mNone\u001b[0m \u001b[0;34m=\u001b[0m \u001b[0;32mNone\u001b[0m\u001b[0;34m\u001b[0m\u001b[0;34m\u001b[0m\u001b[0m\n\u001b[0;32m-> 1620\u001b[0;31m         \u001b[0mself\u001b[0m\u001b[0;34m.\u001b[0m\u001b[0m_engine\u001b[0m \u001b[0;34m=\u001b[0m \u001b[0mself\u001b[0m\u001b[0;34m.\u001b[0m\u001b[0m_make_engine\u001b[0m\u001b[0;34m(\u001b[0m\u001b[0mf\u001b[0m\u001b[0;34m,\u001b[0m \u001b[0mself\u001b[0m\u001b[0;34m.\u001b[0m\u001b[0mengine\u001b[0m\u001b[0;34m)\u001b[0m\u001b[0;34m\u001b[0m\u001b[0;34m\u001b[0m\u001b[0m\n\u001b[0m\u001b[1;32m   1621\u001b[0m \u001b[0;34m\u001b[0m\u001b[0m\n\u001b[1;32m   1622\u001b[0m     \u001b[0;32mdef\u001b[0m \u001b[0mclose\u001b[0m\u001b[0;34m(\u001b[0m\u001b[0mself\u001b[0m\u001b[0;34m)\u001b[0m \u001b[0;34m->\u001b[0m \u001b[0;32mNone\u001b[0m\u001b[0;34m:\u001b[0m\u001b[0;34m\u001b[0m\u001b[0;34m\u001b[0m\u001b[0m\n",
            "\u001b[0;32m/usr/local/lib/python3.10/dist-packages/pandas/io/parsers/readers.py\u001b[0m in \u001b[0;36m_make_engine\u001b[0;34m(self, f, engine)\u001b[0m\n\u001b[1;32m   1878\u001b[0m                 \u001b[0;32mif\u001b[0m \u001b[0;34m\"b\"\u001b[0m \u001b[0;32mnot\u001b[0m \u001b[0;32min\u001b[0m \u001b[0mmode\u001b[0m\u001b[0;34m:\u001b[0m\u001b[0;34m\u001b[0m\u001b[0;34m\u001b[0m\u001b[0m\n\u001b[1;32m   1879\u001b[0m                     \u001b[0mmode\u001b[0m \u001b[0;34m+=\u001b[0m \u001b[0;34m\"b\"\u001b[0m\u001b[0;34m\u001b[0m\u001b[0;34m\u001b[0m\u001b[0m\n\u001b[0;32m-> 1880\u001b[0;31m             self.handles = get_handle(\n\u001b[0m\u001b[1;32m   1881\u001b[0m                 \u001b[0mf\u001b[0m\u001b[0;34m,\u001b[0m\u001b[0;34m\u001b[0m\u001b[0;34m\u001b[0m\u001b[0m\n\u001b[1;32m   1882\u001b[0m                 \u001b[0mmode\u001b[0m\u001b[0;34m,\u001b[0m\u001b[0;34m\u001b[0m\u001b[0;34m\u001b[0m\u001b[0m\n",
            "\u001b[0;32m/usr/local/lib/python3.10/dist-packages/pandas/io/common.py\u001b[0m in \u001b[0;36mget_handle\u001b[0;34m(path_or_buf, mode, encoding, compression, memory_map, is_text, errors, storage_options)\u001b[0m\n\u001b[1;32m    871\u001b[0m         \u001b[0;32mif\u001b[0m \u001b[0mioargs\u001b[0m\u001b[0;34m.\u001b[0m\u001b[0mencoding\u001b[0m \u001b[0;32mand\u001b[0m \u001b[0;34m\"b\"\u001b[0m \u001b[0;32mnot\u001b[0m \u001b[0;32min\u001b[0m \u001b[0mioargs\u001b[0m\u001b[0;34m.\u001b[0m\u001b[0mmode\u001b[0m\u001b[0;34m:\u001b[0m\u001b[0;34m\u001b[0m\u001b[0;34m\u001b[0m\u001b[0m\n\u001b[1;32m    872\u001b[0m             \u001b[0;31m# Encoding\u001b[0m\u001b[0;34m\u001b[0m\u001b[0;34m\u001b[0m\u001b[0m\n\u001b[0;32m--> 873\u001b[0;31m             handle = open(\n\u001b[0m\u001b[1;32m    874\u001b[0m                 \u001b[0mhandle\u001b[0m\u001b[0;34m,\u001b[0m\u001b[0;34m\u001b[0m\u001b[0;34m\u001b[0m\u001b[0m\n\u001b[1;32m    875\u001b[0m                 \u001b[0mioargs\u001b[0m\u001b[0;34m.\u001b[0m\u001b[0mmode\u001b[0m\u001b[0;34m,\u001b[0m\u001b[0;34m\u001b[0m\u001b[0;34m\u001b[0m\u001b[0m\n",
            "\u001b[0;31mFileNotFoundError\u001b[0m: [Errno 2] No such file or directory: '/path/to/your/actual_file_name.csv'"
          ]
        }
      ]
    },
    {
      "cell_type": "markdown",
      "source": [
        "    In the code:\n",
        "\n",
        "    1.Replace 'path_to_your_file.csv' with the actual file path of your CSV.\n",
        "    2.df.head() displays the first 5 rows of the DataFrame."
      ],
      "metadata": {
        "id": "XgIKvipZf5cE"
      }
    },
    {
      "cell_type": "markdown",
      "source": [
        "    13.Create a 3D scatter plot using Plotly.\n",
        "    "
      ],
      "metadata": {
        "id": "rFH71PHagDbT"
      }
    },
    {
      "cell_type": "code",
      "source": [
        "import plotly.graph_objects as go\n",
        "import numpy as np\n",
        "\n",
        "# Generate random data for the 3D scatter plot\n",
        "np.random.seed(42)\n",
        "x = np.random.rand(100)\n",
        "y = np.random.rand(100)\n",
        "z = np.random.rand(100)\n",
        "\n",
        "# Create the 3D scatter plot\n",
        "fig = go.Figure(data=[go.Scatter3d(\n",
        "    x=x,\n",
        "    y=y,\n",
        "    z=z,\n",
        "    mode='markers',\n",
        "    marker=dict(size=5, color=z, colorscale='Viridis', opacity=0.8)\n",
        ")])\n",
        "\n",
        "# Add labels and title\n",
        "fig.update_layout(\n",
        "    title=\"3D Scatter Plot\",\n",
        "    scene=dict(\n",
        "        xaxis_title=\"X Axis\",\n",
        "        yaxis_title=\"Y Axis\",\n",
        "        zaxis_title=\"Z Axis\"\n",
        "    )\n",
        ")\n",
        "\n",
        "# Show the plot\n",
        "fig.show()\n"
      ],
      "metadata": {
        "colab": {
          "base_uri": "https://localhost:8080/",
          "height": 542
        },
        "id": "A0VGUIxXguZx",
        "outputId": "06230fa1-fd39-40ce-8643-d4d99d6cad06"
      },
      "execution_count": 22,
      "outputs": [
        {
          "output_type": "display_data",
          "data": {
            "text/html": [
              "<html>\n",
              "<head><meta charset=\"utf-8\" /></head>\n",
              "<body>\n",
              "    <div>            <script src=\"https://cdnjs.cloudflare.com/ajax/libs/mathjax/2.7.5/MathJax.js?config=TeX-AMS-MML_SVG\"></script><script type=\"text/javascript\">if (window.MathJax && window.MathJax.Hub && window.MathJax.Hub.Config) {window.MathJax.Hub.Config({SVG: {font: \"STIX-Web\"}});}</script>                <script type=\"text/javascript\">window.PlotlyConfig = {MathJaxConfig: 'local'};</script>\n",
              "        <script charset=\"utf-8\" src=\"https://cdn.plot.ly/plotly-2.35.2.min.js\"></script>                <div id=\"1325c2c0-5aae-41e0-991b-5ce632229cd0\" class=\"plotly-graph-div\" style=\"height:525px; width:100%;\"></div>            <script type=\"text/javascript\">                                    window.PLOTLYENV=window.PLOTLYENV || {};                                    if (document.getElementById(\"1325c2c0-5aae-41e0-991b-5ce632229cd0\")) {                    Plotly.newPlot(                        \"1325c2c0-5aae-41e0-991b-5ce632229cd0\",                        [{\"marker\":{\"color\":[0.6420316461542878,0.08413996499504883,0.16162871409461377,0.8985541885270792,0.6064290596595899,0.009197051616629648,0.1014715428660321,0.6635017691080558,0.005061583846218687,0.16080805141749865,0.5487337893665861,0.6918951976926933,0.6519612595026005,0.22426930946055978,0.7121792213475359,0.23724908749680007,0.3253996981592677,0.7464914051180241,0.6496328990472147,0.8492234104941779,0.6576128923003434,0.5683086033354716,0.09367476782809248,0.3677158030594335,0.26520236768172545,0.24398964337908358,0.9730105547524456,0.3930977246667604,0.8920465551771133,0.6311386259972629,0.7948113035416484,0.5026370931051921,0.5769038846263591,0.4925176938188639,0.1952429877980445,0.7224521152615053,0.2807723624408558,0.02431596643145384,0.6454722959071678,0.17711067940704894,0.9404585843529143,0.9539285770025874,0.9148643902204485,0.3701587002554444,0.015456616528867428,0.9283185625877254,0.42818414831731433,0.9666548190436696,0.9636199770892528,0.8530094554673601,0.2944488920695857,0.38509772860192526,0.8511366715168569,0.31692200515627766,0.1694927466860925,0.5568012624583502,0.936154774160781,0.696029796674973,0.570061170089365,0.09717649377076854,0.6150072266991697,0.9900538501042633,0.14008401523652403,0.5183296523637367,0.8773730719279554,0.7407686177542044,0.697015740995268,0.7024840839871093,0.35949115121975517,0.29359184426449336,0.8093611554785136,0.8101133946791808,0.8670723185801037,0.9132405525564713,0.5113423988609378,0.5015162946871996,0.7982951789667752,0.6499639307777652,0.7019668772577033,0.795792669436101,0.8900053418175663,0.3379951568515358,0.375582952639944,0.093981939840869,0.578280140996174,0.035942273796742086,0.46559801813246016,0.5426446347075766,0.2865412521282844,0.5908332605690108,0.03050024993904943,0.03734818874921442,0.8226005606596583,0.3601906414112629,0.12706051265188478,0.5222432600548044,0.7699935530986108,0.21582102749684318,0.6228904758190003,0.085347464993768],\"colorscale\":[[0.0,\"#440154\"],[0.1111111111111111,\"#482878\"],[0.2222222222222222,\"#3e4989\"],[0.3333333333333333,\"#31688e\"],[0.4444444444444444,\"#26828e\"],[0.5555555555555556,\"#1f9e89\"],[0.6666666666666666,\"#35b779\"],[0.7777777777777778,\"#6ece58\"],[0.8888888888888888,\"#b5de2b\"],[1.0,\"#fde725\"]],\"opacity\":0.8,\"size\":5},\"mode\":\"markers\",\"x\":[0.3745401188473625,0.9507143064099162,0.7319939418114051,0.5986584841970366,0.15601864044243652,0.15599452033620265,0.05808361216819946,0.8661761457749352,0.6011150117432088,0.7080725777960455,0.020584494295802447,0.9699098521619943,0.8324426408004217,0.21233911067827616,0.18182496720710062,0.18340450985343382,0.3042422429595377,0.5247564316322378,0.43194501864211576,0.2912291401980419,0.6118528947223795,0.13949386065204183,0.29214464853521815,0.3663618432936917,0.45606998421703593,0.7851759613930136,0.19967378215835974,0.5142344384136116,0.5924145688620425,0.046450412719997725,0.6075448519014384,0.17052412368729153,0.06505159298527952,0.9488855372533332,0.9656320330745594,0.8083973481164611,0.3046137691733707,0.09767211400638387,0.6842330265121569,0.4401524937396013,0.12203823484477883,0.4951769101112702,0.034388521115218396,0.9093204020787821,0.2587799816000169,0.662522284353982,0.31171107608941095,0.5200680211778108,0.5467102793432796,0.18485445552552704,0.9695846277645586,0.7751328233611146,0.9394989415641891,0.8948273504276488,0.5978999788110851,0.9218742350231168,0.0884925020519195,0.1959828624191452,0.045227288910538066,0.32533033076326434,0.388677289689482,0.2713490317738959,0.8287375091519293,0.3567533266935893,0.28093450968738076,0.5426960831582485,0.14092422497476265,0.8021969807540397,0.07455064367977082,0.9868869366005173,0.7722447692966574,0.1987156815341724,0.005522117123602399,0.8154614284548342,0.7068573438476171,0.7290071680409873,0.7712703466859457,0.07404465173409036,0.3584657285442726,0.11586905952512971,0.8631034258755935,0.6232981268275579,0.3308980248526492,0.06355835028602363,0.3109823217156622,0.32518332202674705,0.7296061783380641,0.6375574713552131,0.8872127425763265,0.4722149251619493,0.1195942459383017,0.713244787222995,0.7607850486168974,0.5612771975694962,0.770967179954561,0.49379559636439074,0.5227328293819941,0.42754101835854963,0.02541912674409519,0.10789142699330445],\"y\":[0.03142918568673425,0.6364104112637804,0.3143559810763267,0.5085706911647028,0.907566473926093,0.24929222914887494,0.41038292303562973,0.7555511385430487,0.22879816549162246,0.07697990982879299,0.289751452913768,0.16122128725400442,0.9296976523425731,0.808120379564417,0.6334037565104235,0.8714605901877177,0.8036720768991145,0.18657005888603584,0.8925589984899778,0.5393422419156507,0.8074401551640625,0.8960912999234932,0.3180034749718639,0.11005192452767676,0.22793516254194168,0.4271077886262563,0.8180147659224931,0.8607305832563434,0.006952130531190703,0.5107473025775657,0.417411003148779,0.22210781047073025,0.1198653673336828,0.33761517140362796,0.9429097039125192,0.32320293202075523,0.5187906217433661,0.7030189588951778,0.363629602379294,0.9717820827209607,0.9624472949421112,0.25178229582536416,0.49724850589238545,0.30087830981676966,0.2848404943774676,0.036886947354532795,0.6095643339798968,0.5026790232288615,0.05147875124998935,0.27864646423661144,0.9082658859666537,0.23956189066697242,0.1448948720912231,0.489452760277563,0.9856504541106007,0.2420552715115004,0.6721355474058786,0.7616196153287176,0.23763754399239967,0.7282163486118596,0.3677831327192532,0.6323058305935795,0.6335297107608947,0.5357746840747585,0.0902897700544083,0.835302495589238,0.32078006497173583,0.18651851039985423,0.040775141554763916,0.5908929431882418,0.6775643618422824,0.016587828927856152,0.512093058299281,0.22649577519793795,0.6451727904094499,0.17436642900499144,0.690937738102466,0.3867353463005374,0.9367299887367345,0.13752094414599325,0.3410663510502585,0.11347352124058907,0.9246936182785628,0.877339353380981,0.2579416277151556,0.659984046034179,0.8172222002012158,0.5552008115994623,0.5296505783560065,0.24185229090045168,0.09310276780589921,0.8972157579533268,0.9004180571633305,0.6331014572732679,0.3390297910487007,0.3492095746126609,0.7259556788702394,0.8971102599525771,0.8870864242651173,0.7798755458576239],\"z\":[0.6420316461542878,0.08413996499504883,0.16162871409461377,0.8985541885270792,0.6064290596595899,0.009197051616629648,0.1014715428660321,0.6635017691080558,0.005061583846218687,0.16080805141749865,0.5487337893665861,0.6918951976926933,0.6519612595026005,0.22426930946055978,0.7121792213475359,0.23724908749680007,0.3253996981592677,0.7464914051180241,0.6496328990472147,0.8492234104941779,0.6576128923003434,0.5683086033354716,0.09367476782809248,0.3677158030594335,0.26520236768172545,0.24398964337908358,0.9730105547524456,0.3930977246667604,0.8920465551771133,0.6311386259972629,0.7948113035416484,0.5026370931051921,0.5769038846263591,0.4925176938188639,0.1952429877980445,0.7224521152615053,0.2807723624408558,0.02431596643145384,0.6454722959071678,0.17711067940704894,0.9404585843529143,0.9539285770025874,0.9148643902204485,0.3701587002554444,0.015456616528867428,0.9283185625877254,0.42818414831731433,0.9666548190436696,0.9636199770892528,0.8530094554673601,0.2944488920695857,0.38509772860192526,0.8511366715168569,0.31692200515627766,0.1694927466860925,0.5568012624583502,0.936154774160781,0.696029796674973,0.570061170089365,0.09717649377076854,0.6150072266991697,0.9900538501042633,0.14008401523652403,0.5183296523637367,0.8773730719279554,0.7407686177542044,0.697015740995268,0.7024840839871093,0.35949115121975517,0.29359184426449336,0.8093611554785136,0.8101133946791808,0.8670723185801037,0.9132405525564713,0.5113423988609378,0.5015162946871996,0.7982951789667752,0.6499639307777652,0.7019668772577033,0.795792669436101,0.8900053418175663,0.3379951568515358,0.375582952639944,0.093981939840869,0.578280140996174,0.035942273796742086,0.46559801813246016,0.5426446347075766,0.2865412521282844,0.5908332605690108,0.03050024993904943,0.03734818874921442,0.8226005606596583,0.3601906414112629,0.12706051265188478,0.5222432600548044,0.7699935530986108,0.21582102749684318,0.6228904758190003,0.085347464993768],\"type\":\"scatter3d\"}],                        {\"template\":{\"data\":{\"histogram2dcontour\":[{\"type\":\"histogram2dcontour\",\"colorbar\":{\"outlinewidth\":0,\"ticks\":\"\"},\"colorscale\":[[0.0,\"#0d0887\"],[0.1111111111111111,\"#46039f\"],[0.2222222222222222,\"#7201a8\"],[0.3333333333333333,\"#9c179e\"],[0.4444444444444444,\"#bd3786\"],[0.5555555555555556,\"#d8576b\"],[0.6666666666666666,\"#ed7953\"],[0.7777777777777778,\"#fb9f3a\"],[0.8888888888888888,\"#fdca26\"],[1.0,\"#f0f921\"]]}],\"choropleth\":[{\"type\":\"choropleth\",\"colorbar\":{\"outlinewidth\":0,\"ticks\":\"\"}}],\"histogram2d\":[{\"type\":\"histogram2d\",\"colorbar\":{\"outlinewidth\":0,\"ticks\":\"\"},\"colorscale\":[[0.0,\"#0d0887\"],[0.1111111111111111,\"#46039f\"],[0.2222222222222222,\"#7201a8\"],[0.3333333333333333,\"#9c179e\"],[0.4444444444444444,\"#bd3786\"],[0.5555555555555556,\"#d8576b\"],[0.6666666666666666,\"#ed7953\"],[0.7777777777777778,\"#fb9f3a\"],[0.8888888888888888,\"#fdca26\"],[1.0,\"#f0f921\"]]}],\"heatmap\":[{\"type\":\"heatmap\",\"colorbar\":{\"outlinewidth\":0,\"ticks\":\"\"},\"colorscale\":[[0.0,\"#0d0887\"],[0.1111111111111111,\"#46039f\"],[0.2222222222222222,\"#7201a8\"],[0.3333333333333333,\"#9c179e\"],[0.4444444444444444,\"#bd3786\"],[0.5555555555555556,\"#d8576b\"],[0.6666666666666666,\"#ed7953\"],[0.7777777777777778,\"#fb9f3a\"],[0.8888888888888888,\"#fdca26\"],[1.0,\"#f0f921\"]]}],\"heatmapgl\":[{\"type\":\"heatmapgl\",\"colorbar\":{\"outlinewidth\":0,\"ticks\":\"\"},\"colorscale\":[[0.0,\"#0d0887\"],[0.1111111111111111,\"#46039f\"],[0.2222222222222222,\"#7201a8\"],[0.3333333333333333,\"#9c179e\"],[0.4444444444444444,\"#bd3786\"],[0.5555555555555556,\"#d8576b\"],[0.6666666666666666,\"#ed7953\"],[0.7777777777777778,\"#fb9f3a\"],[0.8888888888888888,\"#fdca26\"],[1.0,\"#f0f921\"]]}],\"contourcarpet\":[{\"type\":\"contourcarpet\",\"colorbar\":{\"outlinewidth\":0,\"ticks\":\"\"}}],\"contour\":[{\"type\":\"contour\",\"colorbar\":{\"outlinewidth\":0,\"ticks\":\"\"},\"colorscale\":[[0.0,\"#0d0887\"],[0.1111111111111111,\"#46039f\"],[0.2222222222222222,\"#7201a8\"],[0.3333333333333333,\"#9c179e\"],[0.4444444444444444,\"#bd3786\"],[0.5555555555555556,\"#d8576b\"],[0.6666666666666666,\"#ed7953\"],[0.7777777777777778,\"#fb9f3a\"],[0.8888888888888888,\"#fdca26\"],[1.0,\"#f0f921\"]]}],\"surface\":[{\"type\":\"surface\",\"colorbar\":{\"outlinewidth\":0,\"ticks\":\"\"},\"colorscale\":[[0.0,\"#0d0887\"],[0.1111111111111111,\"#46039f\"],[0.2222222222222222,\"#7201a8\"],[0.3333333333333333,\"#9c179e\"],[0.4444444444444444,\"#bd3786\"],[0.5555555555555556,\"#d8576b\"],[0.6666666666666666,\"#ed7953\"],[0.7777777777777778,\"#fb9f3a\"],[0.8888888888888888,\"#fdca26\"],[1.0,\"#f0f921\"]]}],\"mesh3d\":[{\"type\":\"mesh3d\",\"colorbar\":{\"outlinewidth\":0,\"ticks\":\"\"}}],\"scatter\":[{\"fillpattern\":{\"fillmode\":\"overlay\",\"size\":10,\"solidity\":0.2},\"type\":\"scatter\"}],\"parcoords\":[{\"type\":\"parcoords\",\"line\":{\"colorbar\":{\"outlinewidth\":0,\"ticks\":\"\"}}}],\"scatterpolargl\":[{\"type\":\"scatterpolargl\",\"marker\":{\"colorbar\":{\"outlinewidth\":0,\"ticks\":\"\"}}}],\"bar\":[{\"error_x\":{\"color\":\"#2a3f5f\"},\"error_y\":{\"color\":\"#2a3f5f\"},\"marker\":{\"line\":{\"color\":\"#E5ECF6\",\"width\":0.5},\"pattern\":{\"fillmode\":\"overlay\",\"size\":10,\"solidity\":0.2}},\"type\":\"bar\"}],\"scattergeo\":[{\"type\":\"scattergeo\",\"marker\":{\"colorbar\":{\"outlinewidth\":0,\"ticks\":\"\"}}}],\"scatterpolar\":[{\"type\":\"scatterpolar\",\"marker\":{\"colorbar\":{\"outlinewidth\":0,\"ticks\":\"\"}}}],\"histogram\":[{\"marker\":{\"pattern\":{\"fillmode\":\"overlay\",\"size\":10,\"solidity\":0.2}},\"type\":\"histogram\"}],\"scattergl\":[{\"type\":\"scattergl\",\"marker\":{\"colorbar\":{\"outlinewidth\":0,\"ticks\":\"\"}}}],\"scatter3d\":[{\"type\":\"scatter3d\",\"line\":{\"colorbar\":{\"outlinewidth\":0,\"ticks\":\"\"}},\"marker\":{\"colorbar\":{\"outlinewidth\":0,\"ticks\":\"\"}}}],\"scattermapbox\":[{\"type\":\"scattermapbox\",\"marker\":{\"colorbar\":{\"outlinewidth\":0,\"ticks\":\"\"}}}],\"scatterternary\":[{\"type\":\"scatterternary\",\"marker\":{\"colorbar\":{\"outlinewidth\":0,\"ticks\":\"\"}}}],\"scattercarpet\":[{\"type\":\"scattercarpet\",\"marker\":{\"colorbar\":{\"outlinewidth\":0,\"ticks\":\"\"}}}],\"carpet\":[{\"aaxis\":{\"endlinecolor\":\"#2a3f5f\",\"gridcolor\":\"white\",\"linecolor\":\"white\",\"minorgridcolor\":\"white\",\"startlinecolor\":\"#2a3f5f\"},\"baxis\":{\"endlinecolor\":\"#2a3f5f\",\"gridcolor\":\"white\",\"linecolor\":\"white\",\"minorgridcolor\":\"white\",\"startlinecolor\":\"#2a3f5f\"},\"type\":\"carpet\"}],\"table\":[{\"cells\":{\"fill\":{\"color\":\"#EBF0F8\"},\"line\":{\"color\":\"white\"}},\"header\":{\"fill\":{\"color\":\"#C8D4E3\"},\"line\":{\"color\":\"white\"}},\"type\":\"table\"}],\"barpolar\":[{\"marker\":{\"line\":{\"color\":\"#E5ECF6\",\"width\":0.5},\"pattern\":{\"fillmode\":\"overlay\",\"size\":10,\"solidity\":0.2}},\"type\":\"barpolar\"}],\"pie\":[{\"automargin\":true,\"type\":\"pie\"}]},\"layout\":{\"autotypenumbers\":\"strict\",\"colorway\":[\"#636efa\",\"#EF553B\",\"#00cc96\",\"#ab63fa\",\"#FFA15A\",\"#19d3f3\",\"#FF6692\",\"#B6E880\",\"#FF97FF\",\"#FECB52\"],\"font\":{\"color\":\"#2a3f5f\"},\"hovermode\":\"closest\",\"hoverlabel\":{\"align\":\"left\"},\"paper_bgcolor\":\"white\",\"plot_bgcolor\":\"#E5ECF6\",\"polar\":{\"bgcolor\":\"#E5ECF6\",\"angularaxis\":{\"gridcolor\":\"white\",\"linecolor\":\"white\",\"ticks\":\"\"},\"radialaxis\":{\"gridcolor\":\"white\",\"linecolor\":\"white\",\"ticks\":\"\"}},\"ternary\":{\"bgcolor\":\"#E5ECF6\",\"aaxis\":{\"gridcolor\":\"white\",\"linecolor\":\"white\",\"ticks\":\"\"},\"baxis\":{\"gridcolor\":\"white\",\"linecolor\":\"white\",\"ticks\":\"\"},\"caxis\":{\"gridcolor\":\"white\",\"linecolor\":\"white\",\"ticks\":\"\"}},\"coloraxis\":{\"colorbar\":{\"outlinewidth\":0,\"ticks\":\"\"}},\"colorscale\":{\"sequential\":[[0.0,\"#0d0887\"],[0.1111111111111111,\"#46039f\"],[0.2222222222222222,\"#7201a8\"],[0.3333333333333333,\"#9c179e\"],[0.4444444444444444,\"#bd3786\"],[0.5555555555555556,\"#d8576b\"],[0.6666666666666666,\"#ed7953\"],[0.7777777777777778,\"#fb9f3a\"],[0.8888888888888888,\"#fdca26\"],[1.0,\"#f0f921\"]],\"sequentialminus\":[[0.0,\"#0d0887\"],[0.1111111111111111,\"#46039f\"],[0.2222222222222222,\"#7201a8\"],[0.3333333333333333,\"#9c179e\"],[0.4444444444444444,\"#bd3786\"],[0.5555555555555556,\"#d8576b\"],[0.6666666666666666,\"#ed7953\"],[0.7777777777777778,\"#fb9f3a\"],[0.8888888888888888,\"#fdca26\"],[1.0,\"#f0f921\"]],\"diverging\":[[0,\"#8e0152\"],[0.1,\"#c51b7d\"],[0.2,\"#de77ae\"],[0.3,\"#f1b6da\"],[0.4,\"#fde0ef\"],[0.5,\"#f7f7f7\"],[0.6,\"#e6f5d0\"],[0.7,\"#b8e186\"],[0.8,\"#7fbc41\"],[0.9,\"#4d9221\"],[1,\"#276419\"]]},\"xaxis\":{\"gridcolor\":\"white\",\"linecolor\":\"white\",\"ticks\":\"\",\"title\":{\"standoff\":15},\"zerolinecolor\":\"white\",\"automargin\":true,\"zerolinewidth\":2},\"yaxis\":{\"gridcolor\":\"white\",\"linecolor\":\"white\",\"ticks\":\"\",\"title\":{\"standoff\":15},\"zerolinecolor\":\"white\",\"automargin\":true,\"zerolinewidth\":2},\"scene\":{\"xaxis\":{\"backgroundcolor\":\"#E5ECF6\",\"gridcolor\":\"white\",\"linecolor\":\"white\",\"showbackground\":true,\"ticks\":\"\",\"zerolinecolor\":\"white\",\"gridwidth\":2},\"yaxis\":{\"backgroundcolor\":\"#E5ECF6\",\"gridcolor\":\"white\",\"linecolor\":\"white\",\"showbackground\":true,\"ticks\":\"\",\"zerolinecolor\":\"white\",\"gridwidth\":2},\"zaxis\":{\"backgroundcolor\":\"#E5ECF6\",\"gridcolor\":\"white\",\"linecolor\":\"white\",\"showbackground\":true,\"ticks\":\"\",\"zerolinecolor\":\"white\",\"gridwidth\":2}},\"shapedefaults\":{\"line\":{\"color\":\"#2a3f5f\"}},\"annotationdefaults\":{\"arrowcolor\":\"#2a3f5f\",\"arrowhead\":0,\"arrowwidth\":1},\"geo\":{\"bgcolor\":\"white\",\"landcolor\":\"#E5ECF6\",\"subunitcolor\":\"white\",\"showland\":true,\"showlakes\":true,\"lakecolor\":\"white\"},\"title\":{\"x\":0.05},\"mapbox\":{\"style\":\"light\"}}},\"title\":{\"text\":\"3D Scatter Plot\"},\"scene\":{\"xaxis\":{\"title\":{\"text\":\"X Axis\"}},\"yaxis\":{\"title\":{\"text\":\"Y Axis\"}},\"zaxis\":{\"title\":{\"text\":\"Z Axis\"}}}},                        {\"responsive\": true}                    ).then(function(){\n",
              "                            \n",
              "var gd = document.getElementById('1325c2c0-5aae-41e0-991b-5ce632229cd0');\n",
              "var x = new MutationObserver(function (mutations, observer) {{\n",
              "        var display = window.getComputedStyle(gd).display;\n",
              "        if (!display || display === 'none') {{\n",
              "            console.log([gd, 'removed!']);\n",
              "            Plotly.purge(gd);\n",
              "            observer.disconnect();\n",
              "        }}\n",
              "}});\n",
              "\n",
              "// Listen for the removal of the full notebook cells\n",
              "var notebookContainer = gd.closest('#notebook-container');\n",
              "if (notebookContainer) {{\n",
              "    x.observe(notebookContainer, {childList: true});\n",
              "}}\n",
              "\n",
              "// Listen for the clearing of the current output cell\n",
              "var outputEl = gd.closest('.output');\n",
              "if (outputEl) {{\n",
              "    x.observe(outputEl, {childList: true});\n",
              "}}\n",
              "\n",
              "                        })                };                            </script>        </div>\n",
              "</body>\n",
              "</html>"
            ]
          },
          "metadata": {}
        }
      ]
    }
  ]
}